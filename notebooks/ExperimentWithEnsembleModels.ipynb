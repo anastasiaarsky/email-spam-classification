{
  "nbformat": 4,
  "nbformat_minor": 0,
  "metadata": {
    "colab": {
      "provenance": [],
      "authorship_tag": "ABX9TyNtbhtj9rLy9dEEZq/aHQfX",
      "include_colab_link": true
    },
    "kernelspec": {
      "name": "python3",
      "display_name": "Python 3"
    },
    "language_info": {
      "name": "python"
    }
  },
  "cells": [
    {
      "cell_type": "markdown",
      "metadata": {
        "id": "view-in-github",
        "colab_type": "text"
      },
      "source": [
        "<a href=\"https://colab.research.google.com/github/anastasiaarsky/ML_Capstone/blob/main/ExperimentWithEnsembleModels.ipynb\" target=\"_parent\"><img src=\"https://colab.research.google.com/assets/colab-badge.svg\" alt=\"Open In Colab\"/></a>"
      ]
    },
    {
      "cell_type": "markdown",
      "source": [
        "# The Goal:\n",
        "1. To **experiment with other forms of feature extraction**.\n",
        "  - So far I have tried TF-IDF Vectorization (on the word level) and a modified Bag of Words model, but I also want to consider TF-IDF Vectorization on the ngram and character levels, as well as Count Vectorization.\n",
        "\n",
        "2. To **explore other ensemble methods**, specifically boosting methods such as XGBoost, and compare the resutls to my previously used bagging method (Random Forest).\n",
        "  - Ensemble methods are less complex and faster to train compared to deep learning methods, so they are preferred if they are able to achieve comparable results."
      ],
      "metadata": {
        "id": "iimeYiho3tZ5"
      }
    },
    {
      "cell_type": "code",
      "source": [
        "from google.colab import drive\n",
        "drive.mount('/content/drive')"
      ],
      "metadata": {
        "colab": {
          "base_uri": "https://localhost:8080/"
        },
        "id": "AwrQoLU_4B_Y",
        "outputId": "763139c2-fcc4-4694-9bf9-1a3e6221ad5f"
      },
      "execution_count": 1,
      "outputs": [
        {
          "output_type": "stream",
          "name": "stdout",
          "text": [
            "Mounted at /content/drive\n"
          ]
        }
      ]
    },
    {
      "cell_type": "code",
      "source": [
        "import pandas as pd\n",
        "import numpy as np\n",
        "import os\n",
        "import datetime\n",
        "import time\n",
        "import matplotlib.pyplot as plt\n",
        "import xgboost as xgb\n",
        "\n",
        "from scipy import stats\n",
        "from scipy.stats import randint\n",
        "from sklearn.ensemble import RandomForestClassifier\n",
        "from sklearn.feature_extraction.text import TfidfVectorizer, CountVectorizer\n",
        "from sklearn.model_selection import train_test_split, RandomizedSearchCV\n",
        "from sklearn.metrics import classification_report, confusion_matrix, ConfusionMatrixDisplay\n",
        "from sklearn.metrics import f1_score, recall_score, precision_score, accuracy_score"
      ],
      "metadata": {
        "id": "rQXTd2T94G2A"
      },
      "execution_count": 2,
      "outputs": []
    },
    {
      "cell_type": "code",
      "source": [
        "# Load clean data into a pandas dataframe\n",
        "DATA_PATH = \"/content/drive/My Drive/UCSD Machine Learning Engineering Bootcamp/Capstone Project/\"\n",
        "df = pd.read_csv(DATA_PATH + 'CleanData.csv')"
      ],
      "metadata": {
        "id": "k3mZedyb4RvY"
      },
      "execution_count": 3,
      "outputs": []
    },
    {
      "cell_type": "code",
      "source": [
        "# Split the dataset into training and testing datasets\n",
        "X_train_all, X_test, y_train_all, y_test = train_test_split(df.Clean_Text, df.Label, test_size=0.3, shuffle=True, random_state=1)"
      ],
      "metadata": {
        "id": "Iqx9nY1B7cm1"
      },
      "execution_count": 4,
      "outputs": []
    },
    {
      "cell_type": "code",
      "source": [
        "# Split the training dataset into training and validating datasets\n",
        "X_train, X_val, y_train, y_val = train_test_split(X_train_all, y_train_all, random_state=1)"
      ],
      "metadata": {
        "id": "xISF8lNd-pHC"
      },
      "execution_count": 5,
      "outputs": []
    },
    {
      "cell_type": "markdown",
      "source": [
        "# Step 1: Experimenting with Feature Extraction"
      ],
      "metadata": {
        "id": "_BXmIzkN3OY9"
      }
    },
    {
      "cell_type": "code",
      "source": [
        "def vectorization(vectorizer, X_train_all, X_train, X_val):\n",
        "  vectorizer.fit(X_train_all)\n",
        "  X_train_vectorized = vectorizer.transform(X_train)\n",
        "  X_val_vectorized = vectorizer.transform(X_val)\n",
        "  return X_train_vectorized, X_val_vectorized"
      ],
      "metadata": {
        "id": "-K3umt_jFuGj"
      },
      "execution_count": 6,
      "outputs": []
    },
    {
      "cell_type": "markdown",
      "source": [
        "### Count Vectorization"
      ],
      "metadata": {
        "id": "iQ9Dxqjh3gMx"
      }
    },
    {
      "cell_type": "code",
      "source": [
        "%%time\n",
        "# count vectorization\n",
        "count_vec = CountVectorizer()\n",
        "X_train_count, X_val_count = vectorization(count_vec, X_train_all, X_train, X_val)\n",
        "print('count vec', X_train_count.shape, X_val_count.shape)"
      ],
      "metadata": {
        "colab": {
          "base_uri": "https://localhost:8080/"
        },
        "id": "TlI35D_L6-F0",
        "outputId": "e05b6d88-f47e-4e9c-ac28-1a9060f921f8"
      },
      "execution_count": 7,
      "outputs": [
        {
          "output_type": "stream",
          "name": "stdout",
          "text": [
            "count vec (20875, 142617) (6959, 142617)\n",
            "CPU times: user 10.1 s, sys: 83.8 ms, total: 10.1 s\n",
            "Wall time: 10.3 s\n"
          ]
        }
      ]
    },
    {
      "cell_type": "markdown",
      "source": [
        "### TFIDF Vectorization"
      ],
      "metadata": {
        "id": "ho8JlMtW5dIn"
      }
    },
    {
      "cell_type": "code",
      "source": [
        "%%time\n",
        "# word_level tfidf\n",
        "tfidf_vec = TfidfVectorizer()\n",
        "X_train_tfidf, X_val_tfidf = vectorization(tfidf_vec, X_train_all, X_train, X_val)\n",
        "print('tfidf - word level', X_train_tfidf.shape, X_val_tfidf.shape)"
      ],
      "metadata": {
        "colab": {
          "base_uri": "https://localhost:8080/"
        },
        "id": "MVoe1D0b5gWU",
        "outputId": "8b76490a-d6af-44f0-bb50-8f8bb223713e"
      },
      "execution_count": 8,
      "outputs": [
        {
          "output_type": "stream",
          "name": "stdout",
          "text": [
            "tfidf - word level (20875, 142617) (6959, 142617)\n",
            "CPU times: user 8.92 s, sys: 87.9 ms, total: 9.01 s\n",
            "Wall time: 9.09 s\n"
          ]
        }
      ]
    },
    {
      "cell_type": "code",
      "source": [
        "%%time\n",
        "# ngram level tfidf\n",
        "tfidf_vect_ngram = TfidfVectorizer(ngram_range=(2,3))\n",
        "X_train_tfidf_ngram, X_val_tfidf_ngram = vectorization(tfidf_vect_ngram, X_train_all, X_train, X_val)\n",
        "print('tfidf - ngram level', X_train_tfidf_ngram.shape, X_val_tfidf_ngram.shape)"
      ],
      "metadata": {
        "colab": {
          "base_uri": "https://localhost:8080/"
        },
        "id": "16gfae8RJCX4",
        "outputId": "e0d3aaa0-9fcc-4443-964a-d93e1eab635e"
      },
      "execution_count": 14,
      "outputs": [
        {
          "output_type": "stream",
          "name": "stdout",
          "text": [
            "tfidf - ngram level (20875, 3233364) (6959, 3233364)\n",
            "CPU times: user 49.2 s, sys: 1.29 s, total: 50.5 s\n",
            "Wall time: 1min 8s\n"
          ]
        }
      ]
    },
    {
      "cell_type": "code",
      "source": [
        "%%time\n",
        "# characters level tfidf\n",
        "tfidf_vect_ngram_char = TfidfVectorizer(analyzer='char', ngram_range=(2,3))\n",
        "X_train_tfidf_ngram_char, X_val_tfidf_ngram_char = vectorization(tfidf_vect_ngram_char, X_train_all, X_train, X_val)\n",
        "print('tfidf - char ngram level', X_train_tfidf_ngram_char.shape, X_val_tfidf_ngram_char.shape)"
      ],
      "metadata": {
        "colab": {
          "base_uri": "https://localhost:8080/"
        },
        "id": "nBnUBgZsJE1s",
        "outputId": "ba8d75c4-ea73-4db5-8a2d-bd4fe53fd869"
      },
      "execution_count": 9,
      "outputs": [
        {
          "output_type": "stream",
          "name": "stdout",
          "text": [
            "tfidf - char ngram level (20875, 51512) (6959, 51512)\n",
            "CPU times: user 1min 24s, sys: 957 ms, total: 1min 25s\n",
            "Wall time: 1min 27s\n"
          ]
        }
      ]
    },
    {
      "cell_type": "markdown",
      "source": [
        "# Step 2: Experimenting with Ensemble Methods"
      ],
      "metadata": {
        "id": "BfECK3Zz3YLw"
      }
    },
    {
      "cell_type": "code",
      "source": [
        "def train_model(classifier, X_train_vec, y_train, X_val_vec, y_val):\n",
        "\n",
        "    # fit the training dataset on the classifier\n",
        "    classifier.fit(X_train_vec, y_train)\n",
        "\n",
        "    # predict the labels on validation dataset\n",
        "    y_pred = classifier.predict(X_val_vec)\n",
        "\n",
        "    # print metrics results\n",
        "    accuracy = accuracy_score(y_val, y_pred)\n",
        "    f1 = f1_score(y_val, y_pred, average='macro')\n",
        "    recall = recall_score(y_val, y_pred, average='macro')\n",
        "    precision = precision_score(y_val, y_pred, average='macro')\n",
        "\n",
        "    print(\"Test accuracy: {:.3f}\".format(accuracy))\n",
        "    print(\"F1 Score: {:.3f}\".format(f1))\n",
        "    print(\"Recall: {:.3f}\".format(recall))\n",
        "    print(\"Precision: {:.3f}\".format(precision))"
      ],
      "metadata": {
        "id": "JxycUP9ZBbKo"
      },
      "execution_count": 10,
      "outputs": []
    },
    {
      "cell_type": "markdown",
      "source": [
        "### Random Forest"
      ],
      "metadata": {
        "id": "Aq5nEDWCCTLe"
      }
    },
    {
      "cell_type": "code",
      "source": [
        "%%time\n",
        "# RF on Count Vectors\n",
        "print(\"Random Forest, Count Vector Results:\")\n",
        "train_model(RandomForestClassifier(), X_train_count, y_train, X_val_count, y_val)"
      ],
      "metadata": {
        "colab": {
          "base_uri": "https://localhost:8080/"
        },
        "id": "I1-aLGOWCU8N",
        "outputId": "c0153673-a5d5-46ca-c7af-e375780d95fa"
      },
      "execution_count": 17,
      "outputs": [
        {
          "output_type": "stream",
          "name": "stdout",
          "text": [
            "Random Forest, Count Vector Results:\n",
            "Test accuracy: 0.980\n",
            "F1 Score: 0.980\n",
            "Recall: 0.980\n",
            "Precision: 0.980\n",
            "CPU times: user 2min 16s, sys: 293 ms, total: 2min 16s\n",
            "Wall time: 2min 44s\n"
          ]
        }
      ]
    },
    {
      "cell_type": "code",
      "source": [
        "%%time\n",
        "# RF on Word Level TF IDF Vectors\n",
        "print(\"Random Forest, Word Level TF-IDF Results:\")\n",
        "train_model(RandomForestClassifier(), X_train_tfidf, y_train, X_val_tfidf, y_val)"
      ],
      "metadata": {
        "colab": {
          "base_uri": "https://localhost:8080/"
        },
        "id": "uxADm3xuDWaj",
        "outputId": "e7e017dc-3ea3-4593-fd11-c1ff1affbb59"
      },
      "execution_count": 18,
      "outputs": [
        {
          "output_type": "stream",
          "name": "stdout",
          "text": [
            "Random Forest, Word Level TF-IDF Results:\n",
            "Test accuracy: 0.983\n",
            "F1 Score: 0.983\n",
            "Recall: 0.983\n",
            "Precision: 0.983\n",
            "CPU times: user 2min 14s, sys: 255 ms, total: 2min 14s\n",
            "Wall time: 2min 38s\n"
          ]
        }
      ]
    },
    {
      "cell_type": "code",
      "source": [
        "%%time\n",
        "# RF on Ngram Level TF IDF Vectors\n",
        "print(\"Random Forest, Ngram Level TF-IDF Results:\")\n",
        "train_model(RandomForestClassifier(), X_train_tfidf_ngram, y_train, X_val_tfidf_ngram, y_val)"
      ],
      "metadata": {
        "colab": {
          "base_uri": "https://localhost:8080/"
        },
        "id": "5dUqPQQMDWrd",
        "outputId": "4d3380c9-c264-4ae0-a4b0-a4a7d0a9f91e"
      },
      "execution_count": 19,
      "outputs": [
        {
          "output_type": "stream",
          "name": "stdout",
          "text": [
            "Random Forest, Ngram Level TF-IDF Results:\n",
            "Test accuracy: 0.915\n",
            "F1 Score: 0.915\n",
            "Recall: 0.917\n",
            "Precision: 0.922\n",
            "CPU times: user 38min 23s, sys: 2.87 s, total: 38min 26s\n",
            "Wall time: 40min 7s\n"
          ]
        }
      ]
    },
    {
      "cell_type": "code",
      "source": [
        "%%time\n",
        "# RF on Char Level TF IDF Vectors\n",
        "print(\"Random Forest, Char Level TF-IDF Results:\")\n",
        "train_model(RandomForestClassifier(), X_train_tfidf_ngram_char, y_train, X_val_tfidf_ngram_char, y_val)"
      ],
      "metadata": {
        "colab": {
          "base_uri": "https://localhost:8080/"
        },
        "id": "Dg9U1pefDW0U",
        "outputId": "cedab2fb-249d-416c-bce0-7068c3b78286"
      },
      "execution_count": 20,
      "outputs": [
        {
          "output_type": "stream",
          "name": "stdout",
          "text": [
            "Random Forest, Char Level TF-IDF Results:\n",
            "Test accuracy: 0.971\n",
            "F1 Score: 0.971\n",
            "Recall: 0.971\n",
            "Precision: 0.971\n",
            "CPU times: user 1min 10s, sys: 162 ms, total: 1min 10s\n",
            "Wall time: 1min 11s\n"
          ]
        }
      ]
    },
    {
      "cell_type": "markdown",
      "source": [
        "### XGBoost"
      ],
      "metadata": {
        "id": "qMZOsut33nmU"
      }
    },
    {
      "cell_type": "code",
      "execution_count": 21,
      "metadata": {
        "colab": {
          "base_uri": "https://localhost:8080/"
        },
        "id": "f7Cg_Sl23DV7",
        "outputId": "a2a20630-6a59-4c51-80eb-4362d40e58f4"
      },
      "outputs": [
        {
          "output_type": "stream",
          "name": "stdout",
          "text": [
            "XGBoost, Count Vector Results:\n",
            "Test accuracy: 0.972\n",
            "F1 Score: 0.972\n",
            "Recall: 0.973\n",
            "Precision: 0.972\n",
            "CPU times: user 1min 37s, sys: 80.3 ms, total: 1min 37s\n",
            "Wall time: 58.9 s\n"
          ]
        }
      ],
      "source": [
        "%%time\n",
        "# Extereme Gradient Boosting on Count Vectors\n",
        "print(\"XGBoost, Count Vector Results:\")\n",
        "train_model(xgb.XGBClassifier(objective = 'binary:logistic'), X_train_count.tocsc(), y_train, X_val_count.tocsc(), y_val)"
      ]
    },
    {
      "cell_type": "code",
      "source": [
        "%%time\n",
        "# Extereme Gradient Boosting on Word Level TF IDF Vectors\n",
        "print(\"XGBoost, Word Level TF-IDF Results:\")\n",
        "train_model(xgb.XGBClassifier(objective = 'binary:logistic'), X_train_tfidf.tocsc(), y_train, X_val_tfidf.tocsc(), y_val)"
      ],
      "metadata": {
        "colab": {
          "base_uri": "https://localhost:8080/"
        },
        "id": "OTlnnQNgElkZ",
        "outputId": "cef906af-a191-4462-a2b1-8851514b153d"
      },
      "execution_count": 22,
      "outputs": [
        {
          "output_type": "stream",
          "name": "stdout",
          "text": [
            "XGBoost, Word Level TF-IDF Results:\n",
            "Test accuracy: 0.970\n",
            "F1 Score: 0.970\n",
            "Recall: 0.971\n",
            "Precision: 0.970\n",
            "CPU times: user 2min 36s, sys: 144 ms, total: 2min 37s\n",
            "Wall time: 1min 33s\n"
          ]
        }
      ]
    },
    {
      "cell_type": "code",
      "source": [
        "%%time\n",
        "# Extereme Gradient Boosting on Ngram Level TF IDF Vectors\n",
        "print(\"XGBoost, Ngram Level TF-IDF Results:\")\n",
        "train_model(xgb.XGBClassifier(objective = 'binary:logistic'), X_train_tfidf_ngram.tocsc(), y_train, X_val_tfidf_ngram.tocsc(), y_val)"
      ],
      "metadata": {
        "colab": {
          "base_uri": "https://localhost:8080/"
        },
        "id": "YaCdNATuEz2N",
        "outputId": "40404bc7-7308-4c6d-fdc6-fee84bebade3"
      },
      "execution_count": 23,
      "outputs": [
        {
          "output_type": "stream",
          "name": "stdout",
          "text": [
            "XGBoost, Ngram Level TF-IDF Results:\n",
            "Test accuracy: 0.891\n",
            "F1 Score: 0.890\n",
            "Recall: 0.893\n",
            "Precision: 0.898\n",
            "CPU times: user 1h 43min 7s, sys: 6.47 s, total: 1h 43min 14s\n",
            "Wall time: 1h 1min 26s\n"
          ]
        }
      ]
    },
    {
      "cell_type": "code",
      "source": [
        "%%time\n",
        "# Extereme Gradient Boosting on Char Level TF IDF Vectors\n",
        "print(\"XGBoost, Char Level TF-IDF Results:\")\n",
        "train_model(xgb.XGBClassifier(objective = 'binary:logistic'), X_train_tfidf_ngram_char.tocsc(), y_train, X_val_tfidf_ngram_char.tocsc(), y_val)"
      ],
      "metadata": {
        "colab": {
          "base_uri": "https://localhost:8080/"
        },
        "id": "p4eQedePEz8q",
        "outputId": "e9b93bf3-e094-4ebb-e948-b34ed00f13fd"
      },
      "execution_count": 24,
      "outputs": [
        {
          "output_type": "stream",
          "name": "stdout",
          "text": [
            "XGBoost, Char Level TF-IDF Results:\n",
            "Test accuracy: 0.978\n",
            "F1 Score: 0.978\n",
            "Recall: 0.978\n",
            "Precision: 0.978\n",
            "CPU times: user 14min 39s, sys: 1.46 s, total: 14min 41s\n",
            "Wall time: 8min 58s\n"
          ]
        }
      ]
    },
    {
      "cell_type": "markdown",
      "source": [
        "## Step 3: Tuning"
      ],
      "metadata": {
        "id": "1Alrw9kpHIpR"
      }
    },
    {
      "cell_type": "markdown",
      "source": [
        "### Random Forest\n",
        "\n",
        "For the random forest classifier, I will tune the Count Vectorizer and Word Level TF-IDF versions as they produced very similar results."
      ],
      "metadata": {
        "id": "9UL_akDAvIm0"
      }
    },
    {
      "cell_type": "code",
      "source": [
        "%%time\n",
        "# Random Forest, Count Vectorizer Tuning\n",
        "rf = RandomForestClassifier()\n",
        "\n",
        "param_dist = {'bootstrap': [True, False],\n",
        "               'max_depth': [10, 20, 30, 40, 50, 60, 70, 80, 90, 100, 110, None],\n",
        "               'max_features': ['auto', 'sqrt'],\n",
        "               'min_samples_leaf': [1, 2, 4],\n",
        "               'min_samples_split': [2, 5, 10],\n",
        "               'n_estimators': [130, 180, 230]}\n",
        "\n",
        "grid_search_rf_count = RandomizedSearchCV(rf,\n",
        "                                          param_distributions = param_dist,\n",
        "                                          cv = 3,\n",
        "                                          n_iter = 20,\n",
        "                                          scoring = 'accuracy',\n",
        "                                          verbose = 3)\n",
        "\n",
        "vectorizer = CountVectorizer()\n",
        "X_train_all_count = vectorizer.fit_transform(X_train_all)\n",
        "\n",
        "grid_search_rf_count.fit(X_train_all_count, y_train_all)\n",
        "\n",
        "best_rf_count = grid_search_rf_count.best_estimator_\n",
        "print(grid_search_rf_count.best_params_)"
      ],
      "metadata": {
        "colab": {
          "base_uri": "https://localhost:8080/"
        },
        "id": "9EqI9DXGvI3_",
        "outputId": "73db65f8-6a25-420f-9461-125030c1d623"
      },
      "execution_count": 25,
      "outputs": [
        {
          "output_type": "stream",
          "name": "stdout",
          "text": [
            "Fitting 3 folds for each of 20 candidates, totalling 60 fits\n",
            "[CV 1/3] END bootstrap=False, max_depth=110, max_features=sqrt, min_samples_leaf=1, min_samples_split=2, n_estimators=230;, score=0.977 total time= 3.8min\n",
            "[CV 2/3] END bootstrap=False, max_depth=110, max_features=sqrt, min_samples_leaf=1, min_samples_split=2, n_estimators=230;, score=0.979 total time= 3.8min\n",
            "[CV 3/3] END bootstrap=False, max_depth=110, max_features=sqrt, min_samples_leaf=1, min_samples_split=2, n_estimators=230;, score=0.981 total time= 3.8min\n"
          ]
        },
        {
          "output_type": "stream",
          "name": "stderr",
          "text": [
            "/usr/local/lib/python3.10/dist-packages/sklearn/ensemble/_forest.py:424: FutureWarning: `max_features='auto'` has been deprecated in 1.1 and will be removed in 1.3. To keep the past behaviour, explicitly set `max_features='sqrt'` or remove this parameter as it is also the default value for RandomForestClassifiers and ExtraTreesClassifiers.\n",
            "  warn(\n"
          ]
        },
        {
          "output_type": "stream",
          "name": "stdout",
          "text": [
            "[CV 1/3] END bootstrap=True, max_depth=50, max_features=auto, min_samples_leaf=4, min_samples_split=2, n_estimators=230;, score=0.968 total time=  53.3s\n"
          ]
        },
        {
          "output_type": "stream",
          "name": "stderr",
          "text": [
            "/usr/local/lib/python3.10/dist-packages/sklearn/ensemble/_forest.py:424: FutureWarning: `max_features='auto'` has been deprecated in 1.1 and will be removed in 1.3. To keep the past behaviour, explicitly set `max_features='sqrt'` or remove this parameter as it is also the default value for RandomForestClassifiers and ExtraTreesClassifiers.\n",
            "  warn(\n"
          ]
        },
        {
          "output_type": "stream",
          "name": "stdout",
          "text": [
            "[CV 2/3] END bootstrap=True, max_depth=50, max_features=auto, min_samples_leaf=4, min_samples_split=2, n_estimators=230;, score=0.969 total time=  54.1s\n"
          ]
        },
        {
          "output_type": "stream",
          "name": "stderr",
          "text": [
            "/usr/local/lib/python3.10/dist-packages/sklearn/ensemble/_forest.py:424: FutureWarning: `max_features='auto'` has been deprecated in 1.1 and will be removed in 1.3. To keep the past behaviour, explicitly set `max_features='sqrt'` or remove this parameter as it is also the default value for RandomForestClassifiers and ExtraTreesClassifiers.\n",
            "  warn(\n"
          ]
        },
        {
          "output_type": "stream",
          "name": "stdout",
          "text": [
            "[CV 3/3] END bootstrap=True, max_depth=50, max_features=auto, min_samples_leaf=4, min_samples_split=2, n_estimators=230;, score=0.970 total time=  54.6s\n",
            "[CV 1/3] END bootstrap=False, max_depth=None, max_features=sqrt, min_samples_leaf=4, min_samples_split=10, n_estimators=130;, score=0.973 total time= 1.3min\n",
            "[CV 2/3] END bootstrap=False, max_depth=None, max_features=sqrt, min_samples_leaf=4, min_samples_split=10, n_estimators=130;, score=0.974 total time= 1.3min\n",
            "[CV 3/3] END bootstrap=False, max_depth=None, max_features=sqrt, min_samples_leaf=4, min_samples_split=10, n_estimators=130;, score=0.978 total time= 1.2min\n"
          ]
        },
        {
          "output_type": "stream",
          "name": "stderr",
          "text": [
            "/usr/local/lib/python3.10/dist-packages/sklearn/ensemble/_forest.py:424: FutureWarning: `max_features='auto'` has been deprecated in 1.1 and will be removed in 1.3. To keep the past behaviour, explicitly set `max_features='sqrt'` or remove this parameter as it is also the default value for RandomForestClassifiers and ExtraTreesClassifiers.\n",
            "  warn(\n"
          ]
        },
        {
          "output_type": "stream",
          "name": "stdout",
          "text": [
            "[CV 1/3] END bootstrap=False, max_depth=50, max_features=auto, min_samples_leaf=2, min_samples_split=5, n_estimators=230;, score=0.969 total time= 1.7min\n"
          ]
        },
        {
          "output_type": "stream",
          "name": "stderr",
          "text": [
            "/usr/local/lib/python3.10/dist-packages/sklearn/ensemble/_forest.py:424: FutureWarning: `max_features='auto'` has been deprecated in 1.1 and will be removed in 1.3. To keep the past behaviour, explicitly set `max_features='sqrt'` or remove this parameter as it is also the default value for RandomForestClassifiers and ExtraTreesClassifiers.\n",
            "  warn(\n"
          ]
        },
        {
          "output_type": "stream",
          "name": "stdout",
          "text": [
            "[CV 2/3] END bootstrap=False, max_depth=50, max_features=auto, min_samples_leaf=2, min_samples_split=5, n_estimators=230;, score=0.972 total time= 1.7min\n"
          ]
        },
        {
          "output_type": "stream",
          "name": "stderr",
          "text": [
            "/usr/local/lib/python3.10/dist-packages/sklearn/ensemble/_forest.py:424: FutureWarning: `max_features='auto'` has been deprecated in 1.1 and will be removed in 1.3. To keep the past behaviour, explicitly set `max_features='sqrt'` or remove this parameter as it is also the default value for RandomForestClassifiers and ExtraTreesClassifiers.\n",
            "  warn(\n"
          ]
        },
        {
          "output_type": "stream",
          "name": "stdout",
          "text": [
            "[CV 3/3] END bootstrap=False, max_depth=50, max_features=auto, min_samples_leaf=2, min_samples_split=5, n_estimators=230;, score=0.973 total time= 1.6min\n"
          ]
        },
        {
          "output_type": "stream",
          "name": "stderr",
          "text": [
            "/usr/local/lib/python3.10/dist-packages/sklearn/ensemble/_forest.py:424: FutureWarning: `max_features='auto'` has been deprecated in 1.1 and will be removed in 1.3. To keep the past behaviour, explicitly set `max_features='sqrt'` or remove this parameter as it is also the default value for RandomForestClassifiers and ExtraTreesClassifiers.\n",
            "  warn(\n"
          ]
        },
        {
          "output_type": "stream",
          "name": "stdout",
          "text": [
            "[CV 1/3] END bootstrap=False, max_depth=100, max_features=auto, min_samples_leaf=2, min_samples_split=2, n_estimators=180;, score=0.974 total time= 1.9min\n"
          ]
        },
        {
          "output_type": "stream",
          "name": "stderr",
          "text": [
            "/usr/local/lib/python3.10/dist-packages/sklearn/ensemble/_forest.py:424: FutureWarning: `max_features='auto'` has been deprecated in 1.1 and will be removed in 1.3. To keep the past behaviour, explicitly set `max_features='sqrt'` or remove this parameter as it is also the default value for RandomForestClassifiers and ExtraTreesClassifiers.\n",
            "  warn(\n"
          ]
        },
        {
          "output_type": "stream",
          "name": "stdout",
          "text": [
            "[CV 2/3] END bootstrap=False, max_depth=100, max_features=auto, min_samples_leaf=2, min_samples_split=2, n_estimators=180;, score=0.977 total time= 1.9min\n"
          ]
        },
        {
          "output_type": "stream",
          "name": "stderr",
          "text": [
            "/usr/local/lib/python3.10/dist-packages/sklearn/ensemble/_forest.py:424: FutureWarning: `max_features='auto'` has been deprecated in 1.1 and will be removed in 1.3. To keep the past behaviour, explicitly set `max_features='sqrt'` or remove this parameter as it is also the default value for RandomForestClassifiers and ExtraTreesClassifiers.\n",
            "  warn(\n"
          ]
        },
        {
          "output_type": "stream",
          "name": "stdout",
          "text": [
            "[CV 3/3] END bootstrap=False, max_depth=100, max_features=auto, min_samples_leaf=2, min_samples_split=2, n_estimators=180;, score=0.978 total time= 1.8min\n",
            "[CV 1/3] END bootstrap=False, max_depth=90, max_features=sqrt, min_samples_leaf=2, min_samples_split=5, n_estimators=230;, score=0.973 total time= 2.3min\n",
            "[CV 2/3] END bootstrap=False, max_depth=90, max_features=sqrt, min_samples_leaf=2, min_samples_split=5, n_estimators=230;, score=0.974 total time= 2.3min\n",
            "[CV 3/3] END bootstrap=False, max_depth=90, max_features=sqrt, min_samples_leaf=2, min_samples_split=5, n_estimators=230;, score=0.977 total time= 2.3min\n",
            "[CV 1/3] END bootstrap=False, max_depth=30, max_features=sqrt, min_samples_leaf=2, min_samples_split=2, n_estimators=180;, score=0.969 total time=  49.8s\n",
            "[CV 2/3] END bootstrap=False, max_depth=30, max_features=sqrt, min_samples_leaf=2, min_samples_split=2, n_estimators=180;, score=0.963 total time=  54.3s\n",
            "[CV 3/3] END bootstrap=False, max_depth=30, max_features=sqrt, min_samples_leaf=2, min_samples_split=2, n_estimators=180;, score=0.972 total time=  51.3s\n",
            "[CV 1/3] END bootstrap=True, max_depth=10, max_features=sqrt, min_samples_leaf=1, min_samples_split=5, n_estimators=230;, score=0.907 total time=  15.5s\n",
            "[CV 2/3] END bootstrap=True, max_depth=10, max_features=sqrt, min_samples_leaf=1, min_samples_split=5, n_estimators=230;, score=0.935 total time=  15.4s\n",
            "[CV 3/3] END bootstrap=True, max_depth=10, max_features=sqrt, min_samples_leaf=1, min_samples_split=5, n_estimators=230;, score=0.949 total time=  15.0s\n",
            "[CV 1/3] END bootstrap=False, max_depth=50, max_features=sqrt, min_samples_leaf=2, min_samples_split=5, n_estimators=180;, score=0.971 total time= 1.3min\n",
            "[CV 2/3] END bootstrap=False, max_depth=50, max_features=sqrt, min_samples_leaf=2, min_samples_split=5, n_estimators=180;, score=0.970 total time= 1.3min\n",
            "[CV 3/3] END bootstrap=False, max_depth=50, max_features=sqrt, min_samples_leaf=2, min_samples_split=5, n_estimators=180;, score=0.970 total time= 1.3min\n",
            "[CV 1/3] END bootstrap=True, max_depth=40, max_features=sqrt, min_samples_leaf=2, min_samples_split=2, n_estimators=230;, score=0.967 total time=  56.3s\n",
            "[CV 2/3] END bootstrap=True, max_depth=40, max_features=sqrt, min_samples_leaf=2, min_samples_split=2, n_estimators=230;, score=0.970 total time=  58.1s\n",
            "[CV 3/3] END bootstrap=True, max_depth=40, max_features=sqrt, min_samples_leaf=2, min_samples_split=2, n_estimators=230;, score=0.974 total time=  55.5s\n"
          ]
        },
        {
          "output_type": "stream",
          "name": "stderr",
          "text": [
            "/usr/local/lib/python3.10/dist-packages/sklearn/ensemble/_forest.py:424: FutureWarning: `max_features='auto'` has been deprecated in 1.1 and will be removed in 1.3. To keep the past behaviour, explicitly set `max_features='sqrt'` or remove this parameter as it is also the default value for RandomForestClassifiers and ExtraTreesClassifiers.\n",
            "  warn(\n"
          ]
        },
        {
          "output_type": "stream",
          "name": "stdout",
          "text": [
            "[CV 1/3] END bootstrap=True, max_depth=None, max_features=auto, min_samples_leaf=2, min_samples_split=10, n_estimators=180;, score=0.976 total time= 1.5min\n"
          ]
        },
        {
          "output_type": "stream",
          "name": "stderr",
          "text": [
            "/usr/local/lib/python3.10/dist-packages/sklearn/ensemble/_forest.py:424: FutureWarning: `max_features='auto'` has been deprecated in 1.1 and will be removed in 1.3. To keep the past behaviour, explicitly set `max_features='sqrt'` or remove this parameter as it is also the default value for RandomForestClassifiers and ExtraTreesClassifiers.\n",
            "  warn(\n"
          ]
        },
        {
          "output_type": "stream",
          "name": "stdout",
          "text": [
            "[CV 2/3] END bootstrap=True, max_depth=None, max_features=auto, min_samples_leaf=2, min_samples_split=10, n_estimators=180;, score=0.978 total time= 1.4min\n"
          ]
        },
        {
          "output_type": "stream",
          "name": "stderr",
          "text": [
            "/usr/local/lib/python3.10/dist-packages/sklearn/ensemble/_forest.py:424: FutureWarning: `max_features='auto'` has been deprecated in 1.1 and will be removed in 1.3. To keep the past behaviour, explicitly set `max_features='sqrt'` or remove this parameter as it is also the default value for RandomForestClassifiers and ExtraTreesClassifiers.\n",
            "  warn(\n"
          ]
        },
        {
          "output_type": "stream",
          "name": "stdout",
          "text": [
            "[CV 3/3] END bootstrap=True, max_depth=None, max_features=auto, min_samples_leaf=2, min_samples_split=10, n_estimators=180;, score=0.980 total time= 1.5min\n"
          ]
        },
        {
          "output_type": "stream",
          "name": "stderr",
          "text": [
            "/usr/local/lib/python3.10/dist-packages/sklearn/ensemble/_forest.py:424: FutureWarning: `max_features='auto'` has been deprecated in 1.1 and will be removed in 1.3. To keep the past behaviour, explicitly set `max_features='sqrt'` or remove this parameter as it is also the default value for RandomForestClassifiers and ExtraTreesClassifiers.\n",
            "  warn(\n"
          ]
        },
        {
          "output_type": "stream",
          "name": "stdout",
          "text": [
            "[CV 1/3] END bootstrap=True, max_depth=30, max_features=auto, min_samples_leaf=1, min_samples_split=10, n_estimators=230;, score=0.970 total time=  45.4s\n"
          ]
        },
        {
          "output_type": "stream",
          "name": "stderr",
          "text": [
            "/usr/local/lib/python3.10/dist-packages/sklearn/ensemble/_forest.py:424: FutureWarning: `max_features='auto'` has been deprecated in 1.1 and will be removed in 1.3. To keep the past behaviour, explicitly set `max_features='sqrt'` or remove this parameter as it is also the default value for RandomForestClassifiers and ExtraTreesClassifiers.\n",
            "  warn(\n"
          ]
        },
        {
          "output_type": "stream",
          "name": "stdout",
          "text": [
            "[CV 2/3] END bootstrap=True, max_depth=30, max_features=auto, min_samples_leaf=1, min_samples_split=10, n_estimators=230;, score=0.967 total time=  45.4s\n"
          ]
        },
        {
          "output_type": "stream",
          "name": "stderr",
          "text": [
            "/usr/local/lib/python3.10/dist-packages/sklearn/ensemble/_forest.py:424: FutureWarning: `max_features='auto'` has been deprecated in 1.1 and will be removed in 1.3. To keep the past behaviour, explicitly set `max_features='sqrt'` or remove this parameter as it is also the default value for RandomForestClassifiers and ExtraTreesClassifiers.\n",
            "  warn(\n"
          ]
        },
        {
          "output_type": "stream",
          "name": "stdout",
          "text": [
            "[CV 3/3] END bootstrap=True, max_depth=30, max_features=auto, min_samples_leaf=1, min_samples_split=10, n_estimators=230;, score=0.972 total time=  44.3s\n"
          ]
        },
        {
          "output_type": "stream",
          "name": "stderr",
          "text": [
            "/usr/local/lib/python3.10/dist-packages/sklearn/ensemble/_forest.py:424: FutureWarning: `max_features='auto'` has been deprecated in 1.1 and will be removed in 1.3. To keep the past behaviour, explicitly set `max_features='sqrt'` or remove this parameter as it is also the default value for RandomForestClassifiers and ExtraTreesClassifiers.\n",
            "  warn(\n"
          ]
        },
        {
          "output_type": "stream",
          "name": "stdout",
          "text": [
            "[CV 1/3] END bootstrap=True, max_depth=40, max_features=auto, min_samples_leaf=2, min_samples_split=10, n_estimators=180;, score=0.970 total time=  43.8s\n"
          ]
        },
        {
          "output_type": "stream",
          "name": "stderr",
          "text": [
            "/usr/local/lib/python3.10/dist-packages/sklearn/ensemble/_forest.py:424: FutureWarning: `max_features='auto'` has been deprecated in 1.1 and will be removed in 1.3. To keep the past behaviour, explicitly set `max_features='sqrt'` or remove this parameter as it is also the default value for RandomForestClassifiers and ExtraTreesClassifiers.\n",
            "  warn(\n"
          ]
        },
        {
          "output_type": "stream",
          "name": "stdout",
          "text": [
            "[CV 2/3] END bootstrap=True, max_depth=40, max_features=auto, min_samples_leaf=2, min_samples_split=10, n_estimators=180;, score=0.967 total time=  42.2s\n"
          ]
        },
        {
          "output_type": "stream",
          "name": "stderr",
          "text": [
            "/usr/local/lib/python3.10/dist-packages/sklearn/ensemble/_forest.py:424: FutureWarning: `max_features='auto'` has been deprecated in 1.1 and will be removed in 1.3. To keep the past behaviour, explicitly set `max_features='sqrt'` or remove this parameter as it is also the default value for RandomForestClassifiers and ExtraTreesClassifiers.\n",
            "  warn(\n"
          ]
        },
        {
          "output_type": "stream",
          "name": "stdout",
          "text": [
            "[CV 3/3] END bootstrap=True, max_depth=40, max_features=auto, min_samples_leaf=2, min_samples_split=10, n_estimators=180;, score=0.969 total time=  41.6s\n"
          ]
        },
        {
          "output_type": "stream",
          "name": "stderr",
          "text": [
            "/usr/local/lib/python3.10/dist-packages/sklearn/ensemble/_forest.py:424: FutureWarning: `max_features='auto'` has been deprecated in 1.1 and will be removed in 1.3. To keep the past behaviour, explicitly set `max_features='sqrt'` or remove this parameter as it is also the default value for RandomForestClassifiers and ExtraTreesClassifiers.\n",
            "  warn(\n"
          ]
        },
        {
          "output_type": "stream",
          "name": "stdout",
          "text": [
            "[CV 1/3] END bootstrap=False, max_depth=100, max_features=auto, min_samples_leaf=4, min_samples_split=5, n_estimators=130;, score=0.971 total time= 1.1min\n"
          ]
        },
        {
          "output_type": "stream",
          "name": "stderr",
          "text": [
            "/usr/local/lib/python3.10/dist-packages/sklearn/ensemble/_forest.py:424: FutureWarning: `max_features='auto'` has been deprecated in 1.1 and will be removed in 1.3. To keep the past behaviour, explicitly set `max_features='sqrt'` or remove this parameter as it is also the default value for RandomForestClassifiers and ExtraTreesClassifiers.\n",
            "  warn(\n"
          ]
        },
        {
          "output_type": "stream",
          "name": "stdout",
          "text": [
            "[CV 2/3] END bootstrap=False, max_depth=100, max_features=auto, min_samples_leaf=4, min_samples_split=5, n_estimators=130;, score=0.974 total time= 1.1min\n"
          ]
        },
        {
          "output_type": "stream",
          "name": "stderr",
          "text": [
            "/usr/local/lib/python3.10/dist-packages/sklearn/ensemble/_forest.py:424: FutureWarning: `max_features='auto'` has been deprecated in 1.1 and will be removed in 1.3. To keep the past behaviour, explicitly set `max_features='sqrt'` or remove this parameter as it is also the default value for RandomForestClassifiers and ExtraTreesClassifiers.\n",
            "  warn(\n"
          ]
        },
        {
          "output_type": "stream",
          "name": "stdout",
          "text": [
            "[CV 3/3] END bootstrap=False, max_depth=100, max_features=auto, min_samples_leaf=4, min_samples_split=5, n_estimators=130;, score=0.975 total time= 1.1min\n",
            "[CV 1/3] END bootstrap=True, max_depth=30, max_features=sqrt, min_samples_leaf=2, min_samples_split=5, n_estimators=130;, score=0.965 total time=  26.8s\n",
            "[CV 2/3] END bootstrap=True, max_depth=30, max_features=sqrt, min_samples_leaf=2, min_samples_split=5, n_estimators=130;, score=0.964 total time=  25.7s\n",
            "[CV 3/3] END bootstrap=True, max_depth=30, max_features=sqrt, min_samples_leaf=2, min_samples_split=5, n_estimators=130;, score=0.967 total time=  24.9s\n"
          ]
        },
        {
          "output_type": "stream",
          "name": "stderr",
          "text": [
            "/usr/local/lib/python3.10/dist-packages/sklearn/ensemble/_forest.py:424: FutureWarning: `max_features='auto'` has been deprecated in 1.1 and will be removed in 1.3. To keep the past behaviour, explicitly set `max_features='sqrt'` or remove this parameter as it is also the default value for RandomForestClassifiers and ExtraTreesClassifiers.\n",
            "  warn(\n"
          ]
        },
        {
          "output_type": "stream",
          "name": "stdout",
          "text": [
            "[CV 1/3] END bootstrap=False, max_depth=20, max_features=auto, min_samples_leaf=1, min_samples_split=2, n_estimators=180;, score=0.962 total time=  36.7s\n"
          ]
        },
        {
          "output_type": "stream",
          "name": "stderr",
          "text": [
            "/usr/local/lib/python3.10/dist-packages/sklearn/ensemble/_forest.py:424: FutureWarning: `max_features='auto'` has been deprecated in 1.1 and will be removed in 1.3. To keep the past behaviour, explicitly set `max_features='sqrt'` or remove this parameter as it is also the default value for RandomForestClassifiers and ExtraTreesClassifiers.\n",
            "  warn(\n"
          ]
        },
        {
          "output_type": "stream",
          "name": "stdout",
          "text": [
            "[CV 2/3] END bootstrap=False, max_depth=20, max_features=auto, min_samples_leaf=1, min_samples_split=2, n_estimators=180;, score=0.966 total time=  36.4s\n"
          ]
        },
        {
          "output_type": "stream",
          "name": "stderr",
          "text": [
            "/usr/local/lib/python3.10/dist-packages/sklearn/ensemble/_forest.py:424: FutureWarning: `max_features='auto'` has been deprecated in 1.1 and will be removed in 1.3. To keep the past behaviour, explicitly set `max_features='sqrt'` or remove this parameter as it is also the default value for RandomForestClassifiers and ExtraTreesClassifiers.\n",
            "  warn(\n"
          ]
        },
        {
          "output_type": "stream",
          "name": "stdout",
          "text": [
            "[CV 3/3] END bootstrap=False, max_depth=20, max_features=auto, min_samples_leaf=1, min_samples_split=2, n_estimators=180;, score=0.966 total time=  37.3s\n",
            "[CV 1/3] END bootstrap=False, max_depth=None, max_features=sqrt, min_samples_leaf=4, min_samples_split=10, n_estimators=180;, score=0.974 total time= 1.8min\n",
            "[CV 2/3] END bootstrap=False, max_depth=None, max_features=sqrt, min_samples_leaf=4, min_samples_split=10, n_estimators=180;, score=0.975 total time= 1.8min\n",
            "[CV 3/3] END bootstrap=False, max_depth=None, max_features=sqrt, min_samples_leaf=4, min_samples_split=10, n_estimators=180;, score=0.978 total time= 1.7min\n",
            "[CV 1/3] END bootstrap=True, max_depth=10, max_features=sqrt, min_samples_leaf=2, min_samples_split=2, n_estimators=230;, score=0.929 total time=  15.3s\n",
            "[CV 2/3] END bootstrap=True, max_depth=10, max_features=sqrt, min_samples_leaf=2, min_samples_split=2, n_estimators=230;, score=0.929 total time=  15.3s\n",
            "[CV 3/3] END bootstrap=True, max_depth=10, max_features=sqrt, min_samples_leaf=2, min_samples_split=2, n_estimators=230;, score=0.943 total time=  14.9s\n",
            "[CV 1/3] END bootstrap=False, max_depth=20, max_features=sqrt, min_samples_leaf=1, min_samples_split=5, n_estimators=180;, score=0.962 total time=  34.6s\n",
            "[CV 2/3] END bootstrap=False, max_depth=20, max_features=sqrt, min_samples_leaf=1, min_samples_split=5, n_estimators=180;, score=0.965 total time=  35.4s\n",
            "[CV 3/3] END bootstrap=False, max_depth=20, max_features=sqrt, min_samples_leaf=1, min_samples_split=5, n_estimators=180;, score=0.968 total time=  36.7s\n"
          ]
        },
        {
          "output_type": "stream",
          "name": "stderr",
          "text": [
            "/usr/local/lib/python3.10/dist-packages/sklearn/ensemble/_forest.py:424: FutureWarning: `max_features='auto'` has been deprecated in 1.1 and will be removed in 1.3. To keep the past behaviour, explicitly set `max_features='sqrt'` or remove this parameter as it is also the default value for RandomForestClassifiers and ExtraTreesClassifiers.\n",
            "  warn(\n"
          ]
        },
        {
          "output_type": "stream",
          "name": "stdout",
          "text": [
            "[CV 1/3] END bootstrap=True, max_depth=10, max_features=auto, min_samples_leaf=2, min_samples_split=10, n_estimators=230;, score=0.938 total time=  15.2s\n"
          ]
        },
        {
          "output_type": "stream",
          "name": "stderr",
          "text": [
            "/usr/local/lib/python3.10/dist-packages/sklearn/ensemble/_forest.py:424: FutureWarning: `max_features='auto'` has been deprecated in 1.1 and will be removed in 1.3. To keep the past behaviour, explicitly set `max_features='sqrt'` or remove this parameter as it is also the default value for RandomForestClassifiers and ExtraTreesClassifiers.\n",
            "  warn(\n"
          ]
        },
        {
          "output_type": "stream",
          "name": "stdout",
          "text": [
            "[CV 2/3] END bootstrap=True, max_depth=10, max_features=auto, min_samples_leaf=2, min_samples_split=10, n_estimators=230;, score=0.927 total time=  15.1s\n"
          ]
        },
        {
          "output_type": "stream",
          "name": "stderr",
          "text": [
            "/usr/local/lib/python3.10/dist-packages/sklearn/ensemble/_forest.py:424: FutureWarning: `max_features='auto'` has been deprecated in 1.1 and will be removed in 1.3. To keep the past behaviour, explicitly set `max_features='sqrt'` or remove this parameter as it is also the default value for RandomForestClassifiers and ExtraTreesClassifiers.\n",
            "  warn(\n"
          ]
        },
        {
          "output_type": "stream",
          "name": "stdout",
          "text": [
            "[CV 3/3] END bootstrap=True, max_depth=10, max_features=auto, min_samples_leaf=2, min_samples_split=10, n_estimators=230;, score=0.954 total time=  14.8s\n",
            "{'n_estimators': 230, 'min_samples_split': 2, 'min_samples_leaf': 1, 'max_features': 'sqrt', 'max_depth': 110, 'bootstrap': False}\n",
            "CPU times: user 1h 11min 37s, sys: 4.21 s, total: 1h 11min 42s\n",
            "Wall time: 1h 11min 58s\n"
          ]
        }
      ]
    },
    {
      "cell_type": "code",
      "source": [
        "%%time\n",
        "# Random Forest, TFIDF (word level) Vectorizer Tuning\n",
        "rf = RandomForestClassifier()\n",
        "\n",
        "param_dist = {'bootstrap': [True, False],\n",
        "               'max_depth': [10, 20, 30, 40, 50, 60, 70, 80, 90, 100, 110, None],\n",
        "               'max_features': ['auto', 'sqrt'],\n",
        "               'min_samples_leaf': [1, 2, 4],\n",
        "               'min_samples_split': [2, 5, 10],\n",
        "               'n_estimators': [130, 180, 230]}\n",
        "\n",
        "grid_search_rf_tfidf = RandomizedSearchCV(rf,\n",
        "                                          param_distributions = param_dist,\n",
        "                                          cv = 3,\n",
        "                                          n_iter = 20,\n",
        "                                          scoring = 'accuracy',\n",
        "                                          verbose = 3)\n",
        "\n",
        "vectorizer = TfidfVectorizer()\n",
        "X_train_all_tfidf = vectorizer.fit_transform(X_train_all)\n",
        "\n",
        "grid_search_rf_tfidf.fit(X_train_all_tfidf, y_train_all)\n",
        "\n",
        "best_rf_tfidf = grid_search_rf_tfidf.best_estimator_\n",
        "print(grid_search_rf_tfidf.best_params_)"
      ],
      "metadata": {
        "colab": {
          "base_uri": "https://localhost:8080/"
        },
        "id": "ucgelhEbzhUZ",
        "outputId": "60406a6b-74b6-4563-de2d-81fbe378b553"
      },
      "execution_count": 26,
      "outputs": [
        {
          "output_type": "stream",
          "name": "stdout",
          "text": [
            "Fitting 3 folds for each of 20 candidates, totalling 60 fits\n",
            "[CV 1/3] END bootstrap=False, max_depth=30, max_features=sqrt, min_samples_leaf=2, min_samples_split=2, n_estimators=180;, score=0.969 total time=  52.8s\n",
            "[CV 2/3] END bootstrap=False, max_depth=30, max_features=sqrt, min_samples_leaf=2, min_samples_split=2, n_estimators=180;, score=0.969 total time=  51.2s\n",
            "[CV 3/3] END bootstrap=False, max_depth=30, max_features=sqrt, min_samples_leaf=2, min_samples_split=2, n_estimators=180;, score=0.971 total time=  53.0s\n"
          ]
        },
        {
          "output_type": "stream",
          "name": "stderr",
          "text": [
            "/usr/local/lib/python3.10/dist-packages/sklearn/ensemble/_forest.py:424: FutureWarning: `max_features='auto'` has been deprecated in 1.1 and will be removed in 1.3. To keep the past behaviour, explicitly set `max_features='sqrt'` or remove this parameter as it is also the default value for RandomForestClassifiers and ExtraTreesClassifiers.\n",
            "  warn(\n"
          ]
        },
        {
          "output_type": "stream",
          "name": "stdout",
          "text": [
            "[CV 1/3] END bootstrap=False, max_depth=70, max_features=auto, min_samples_leaf=4, min_samples_split=2, n_estimators=130;, score=0.970 total time=  59.6s\n"
          ]
        },
        {
          "output_type": "stream",
          "name": "stderr",
          "text": [
            "/usr/local/lib/python3.10/dist-packages/sklearn/ensemble/_forest.py:424: FutureWarning: `max_features='auto'` has been deprecated in 1.1 and will be removed in 1.3. To keep the past behaviour, explicitly set `max_features='sqrt'` or remove this parameter as it is also the default value for RandomForestClassifiers and ExtraTreesClassifiers.\n",
            "  warn(\n"
          ]
        },
        {
          "output_type": "stream",
          "name": "stdout",
          "text": [
            "[CV 2/3] END bootstrap=False, max_depth=70, max_features=auto, min_samples_leaf=4, min_samples_split=2, n_estimators=130;, score=0.971 total time=  59.7s\n"
          ]
        },
        {
          "output_type": "stream",
          "name": "stderr",
          "text": [
            "/usr/local/lib/python3.10/dist-packages/sklearn/ensemble/_forest.py:424: FutureWarning: `max_features='auto'` has been deprecated in 1.1 and will be removed in 1.3. To keep the past behaviour, explicitly set `max_features='sqrt'` or remove this parameter as it is also the default value for RandomForestClassifiers and ExtraTreesClassifiers.\n",
            "  warn(\n"
          ]
        },
        {
          "output_type": "stream",
          "name": "stdout",
          "text": [
            "[CV 3/3] END bootstrap=False, max_depth=70, max_features=auto, min_samples_leaf=4, min_samples_split=2, n_estimators=130;, score=0.972 total time=  56.6s\n"
          ]
        },
        {
          "output_type": "stream",
          "name": "stderr",
          "text": [
            "/usr/local/lib/python3.10/dist-packages/sklearn/ensemble/_forest.py:424: FutureWarning: `max_features='auto'` has been deprecated in 1.1 and will be removed in 1.3. To keep the past behaviour, explicitly set `max_features='sqrt'` or remove this parameter as it is also the default value for RandomForestClassifiers and ExtraTreesClassifiers.\n",
            "  warn(\n"
          ]
        },
        {
          "output_type": "stream",
          "name": "stdout",
          "text": [
            "[CV 1/3] END bootstrap=False, max_depth=40, max_features=auto, min_samples_leaf=4, min_samples_split=10, n_estimators=130;, score=0.966 total time=  42.0s\n"
          ]
        },
        {
          "output_type": "stream",
          "name": "stderr",
          "text": [
            "/usr/local/lib/python3.10/dist-packages/sklearn/ensemble/_forest.py:424: FutureWarning: `max_features='auto'` has been deprecated in 1.1 and will be removed in 1.3. To keep the past behaviour, explicitly set `max_features='sqrt'` or remove this parameter as it is also the default value for RandomForestClassifiers and ExtraTreesClassifiers.\n",
            "  warn(\n"
          ]
        },
        {
          "output_type": "stream",
          "name": "stdout",
          "text": [
            "[CV 2/3] END bootstrap=False, max_depth=40, max_features=auto, min_samples_leaf=4, min_samples_split=10, n_estimators=130;, score=0.966 total time=  42.4s\n"
          ]
        },
        {
          "output_type": "stream",
          "name": "stderr",
          "text": [
            "/usr/local/lib/python3.10/dist-packages/sklearn/ensemble/_forest.py:424: FutureWarning: `max_features='auto'` has been deprecated in 1.1 and will be removed in 1.3. To keep the past behaviour, explicitly set `max_features='sqrt'` or remove this parameter as it is also the default value for RandomForestClassifiers and ExtraTreesClassifiers.\n",
            "  warn(\n"
          ]
        },
        {
          "output_type": "stream",
          "name": "stdout",
          "text": [
            "[CV 3/3] END bootstrap=False, max_depth=40, max_features=auto, min_samples_leaf=4, min_samples_split=10, n_estimators=130;, score=0.969 total time=  43.5s\n"
          ]
        },
        {
          "output_type": "stream",
          "name": "stderr",
          "text": [
            "/usr/local/lib/python3.10/dist-packages/sklearn/ensemble/_forest.py:424: FutureWarning: `max_features='auto'` has been deprecated in 1.1 and will be removed in 1.3. To keep the past behaviour, explicitly set `max_features='sqrt'` or remove this parameter as it is also the default value for RandomForestClassifiers and ExtraTreesClassifiers.\n",
            "  warn(\n"
          ]
        },
        {
          "output_type": "stream",
          "name": "stdout",
          "text": [
            "[CV 1/3] END bootstrap=True, max_depth=30, max_features=auto, min_samples_leaf=1, min_samples_split=10, n_estimators=130;, score=0.967 total time=  25.0s\n"
          ]
        },
        {
          "output_type": "stream",
          "name": "stderr",
          "text": [
            "/usr/local/lib/python3.10/dist-packages/sklearn/ensemble/_forest.py:424: FutureWarning: `max_features='auto'` has been deprecated in 1.1 and will be removed in 1.3. To keep the past behaviour, explicitly set `max_features='sqrt'` or remove this parameter as it is also the default value for RandomForestClassifiers and ExtraTreesClassifiers.\n",
            "  warn(\n"
          ]
        },
        {
          "output_type": "stream",
          "name": "stdout",
          "text": [
            "[CV 2/3] END bootstrap=True, max_depth=30, max_features=auto, min_samples_leaf=1, min_samples_split=10, n_estimators=130;, score=0.972 total time=  25.7s\n"
          ]
        },
        {
          "output_type": "stream",
          "name": "stderr",
          "text": [
            "/usr/local/lib/python3.10/dist-packages/sklearn/ensemble/_forest.py:424: FutureWarning: `max_features='auto'` has been deprecated in 1.1 and will be removed in 1.3. To keep the past behaviour, explicitly set `max_features='sqrt'` or remove this parameter as it is also the default value for RandomForestClassifiers and ExtraTreesClassifiers.\n",
            "  warn(\n"
          ]
        },
        {
          "output_type": "stream",
          "name": "stdout",
          "text": [
            "[CV 3/3] END bootstrap=True, max_depth=30, max_features=auto, min_samples_leaf=1, min_samples_split=10, n_estimators=130;, score=0.971 total time=  26.3s\n"
          ]
        },
        {
          "output_type": "stream",
          "name": "stderr",
          "text": [
            "/usr/local/lib/python3.10/dist-packages/sklearn/ensemble/_forest.py:424: FutureWarning: `max_features='auto'` has been deprecated in 1.1 and will be removed in 1.3. To keep the past behaviour, explicitly set `max_features='sqrt'` or remove this parameter as it is also the default value for RandomForestClassifiers and ExtraTreesClassifiers.\n",
            "  warn(\n"
          ]
        },
        {
          "output_type": "stream",
          "name": "stdout",
          "text": [
            "[CV 1/3] END bootstrap=False, max_depth=40, max_features=auto, min_samples_leaf=4, min_samples_split=5, n_estimators=130;, score=0.967 total time=  42.6s\n"
          ]
        },
        {
          "output_type": "stream",
          "name": "stderr",
          "text": [
            "/usr/local/lib/python3.10/dist-packages/sklearn/ensemble/_forest.py:424: FutureWarning: `max_features='auto'` has been deprecated in 1.1 and will be removed in 1.3. To keep the past behaviour, explicitly set `max_features='sqrt'` or remove this parameter as it is also the default value for RandomForestClassifiers and ExtraTreesClassifiers.\n",
            "  warn(\n"
          ]
        },
        {
          "output_type": "stream",
          "name": "stdout",
          "text": [
            "[CV 2/3] END bootstrap=False, max_depth=40, max_features=auto, min_samples_leaf=4, min_samples_split=5, n_estimators=130;, score=0.968 total time=  44.8s\n"
          ]
        },
        {
          "output_type": "stream",
          "name": "stderr",
          "text": [
            "/usr/local/lib/python3.10/dist-packages/sklearn/ensemble/_forest.py:424: FutureWarning: `max_features='auto'` has been deprecated in 1.1 and will be removed in 1.3. To keep the past behaviour, explicitly set `max_features='sqrt'` or remove this parameter as it is also the default value for RandomForestClassifiers and ExtraTreesClassifiers.\n",
            "  warn(\n"
          ]
        },
        {
          "output_type": "stream",
          "name": "stdout",
          "text": [
            "[CV 3/3] END bootstrap=False, max_depth=40, max_features=auto, min_samples_leaf=4, min_samples_split=5, n_estimators=130;, score=0.968 total time=  41.8s\n"
          ]
        },
        {
          "output_type": "stream",
          "name": "stderr",
          "text": [
            "/usr/local/lib/python3.10/dist-packages/sklearn/ensemble/_forest.py:424: FutureWarning: `max_features='auto'` has been deprecated in 1.1 and will be removed in 1.3. To keep the past behaviour, explicitly set `max_features='sqrt'` or remove this parameter as it is also the default value for RandomForestClassifiers and ExtraTreesClassifiers.\n",
            "  warn(\n"
          ]
        },
        {
          "output_type": "stream",
          "name": "stdout",
          "text": [
            "[CV 1/3] END bootstrap=False, max_depth=60, max_features=auto, min_samples_leaf=4, min_samples_split=2, n_estimators=180;, score=0.970 total time= 1.2min\n"
          ]
        },
        {
          "output_type": "stream",
          "name": "stderr",
          "text": [
            "/usr/local/lib/python3.10/dist-packages/sklearn/ensemble/_forest.py:424: FutureWarning: `max_features='auto'` has been deprecated in 1.1 and will be removed in 1.3. To keep the past behaviour, explicitly set `max_features='sqrt'` or remove this parameter as it is also the default value for RandomForestClassifiers and ExtraTreesClassifiers.\n",
            "  warn(\n"
          ]
        },
        {
          "output_type": "stream",
          "name": "stdout",
          "text": [
            "[CV 2/3] END bootstrap=False, max_depth=60, max_features=auto, min_samples_leaf=4, min_samples_split=2, n_estimators=180;, score=0.969 total time= 1.3min\n"
          ]
        },
        {
          "output_type": "stream",
          "name": "stderr",
          "text": [
            "/usr/local/lib/python3.10/dist-packages/sklearn/ensemble/_forest.py:424: FutureWarning: `max_features='auto'` has been deprecated in 1.1 and will be removed in 1.3. To keep the past behaviour, explicitly set `max_features='sqrt'` or remove this parameter as it is also the default value for RandomForestClassifiers and ExtraTreesClassifiers.\n",
            "  warn(\n"
          ]
        },
        {
          "output_type": "stream",
          "name": "stdout",
          "text": [
            "[CV 3/3] END bootstrap=False, max_depth=60, max_features=auto, min_samples_leaf=4, min_samples_split=2, n_estimators=180;, score=0.974 total time= 1.2min\n"
          ]
        },
        {
          "output_type": "stream",
          "name": "stderr",
          "text": [
            "/usr/local/lib/python3.10/dist-packages/sklearn/ensemble/_forest.py:424: FutureWarning: `max_features='auto'` has been deprecated in 1.1 and will be removed in 1.3. To keep the past behaviour, explicitly set `max_features='sqrt'` or remove this parameter as it is also the default value for RandomForestClassifiers and ExtraTreesClassifiers.\n",
            "  warn(\n"
          ]
        },
        {
          "output_type": "stream",
          "name": "stdout",
          "text": [
            "[CV 1/3] END bootstrap=True, max_depth=70, max_features=auto, min_samples_leaf=2, min_samples_split=2, n_estimators=230;, score=0.969 total time= 1.3min\n"
          ]
        },
        {
          "output_type": "stream",
          "name": "stderr",
          "text": [
            "/usr/local/lib/python3.10/dist-packages/sklearn/ensemble/_forest.py:424: FutureWarning: `max_features='auto'` has been deprecated in 1.1 and will be removed in 1.3. To keep the past behaviour, explicitly set `max_features='sqrt'` or remove this parameter as it is also the default value for RandomForestClassifiers and ExtraTreesClassifiers.\n",
            "  warn(\n"
          ]
        },
        {
          "output_type": "stream",
          "name": "stdout",
          "text": [
            "[CV 2/3] END bootstrap=True, max_depth=70, max_features=auto, min_samples_leaf=2, min_samples_split=2, n_estimators=230;, score=0.971 total time= 1.3min\n"
          ]
        },
        {
          "output_type": "stream",
          "name": "stderr",
          "text": [
            "/usr/local/lib/python3.10/dist-packages/sklearn/ensemble/_forest.py:424: FutureWarning: `max_features='auto'` has been deprecated in 1.1 and will be removed in 1.3. To keep the past behaviour, explicitly set `max_features='sqrt'` or remove this parameter as it is also the default value for RandomForestClassifiers and ExtraTreesClassifiers.\n",
            "  warn(\n"
          ]
        },
        {
          "output_type": "stream",
          "name": "stdout",
          "text": [
            "[CV 3/3] END bootstrap=True, max_depth=70, max_features=auto, min_samples_leaf=2, min_samples_split=2, n_estimators=230;, score=0.973 total time= 1.3min\n",
            "[CV 1/3] END bootstrap=True, max_depth=30, max_features=sqrt, min_samples_leaf=2, min_samples_split=10, n_estimators=130;, score=0.969 total time=  24.9s\n",
            "[CV 2/3] END bootstrap=True, max_depth=30, max_features=sqrt, min_samples_leaf=2, min_samples_split=10, n_estimators=130;, score=0.968 total time=  24.7s\n",
            "[CV 3/3] END bootstrap=True, max_depth=30, max_features=sqrt, min_samples_leaf=2, min_samples_split=10, n_estimators=130;, score=0.967 total time=  22.7s\n"
          ]
        },
        {
          "output_type": "stream",
          "name": "stderr",
          "text": [
            "/usr/local/lib/python3.10/dist-packages/sklearn/ensemble/_forest.py:424: FutureWarning: `max_features='auto'` has been deprecated in 1.1 and will be removed in 1.3. To keep the past behaviour, explicitly set `max_features='sqrt'` or remove this parameter as it is also the default value for RandomForestClassifiers and ExtraTreesClassifiers.\n",
            "  warn(\n"
          ]
        },
        {
          "output_type": "stream",
          "name": "stdout",
          "text": [
            "[CV 1/3] END bootstrap=False, max_depth=60, max_features=auto, min_samples_leaf=2, min_samples_split=5, n_estimators=180;, score=0.969 total time= 1.5min\n"
          ]
        },
        {
          "output_type": "stream",
          "name": "stderr",
          "text": [
            "/usr/local/lib/python3.10/dist-packages/sklearn/ensemble/_forest.py:424: FutureWarning: `max_features='auto'` has been deprecated in 1.1 and will be removed in 1.3. To keep the past behaviour, explicitly set `max_features='sqrt'` or remove this parameter as it is also the default value for RandomForestClassifiers and ExtraTreesClassifiers.\n",
            "  warn(\n"
          ]
        },
        {
          "output_type": "stream",
          "name": "stdout",
          "text": [
            "[CV 2/3] END bootstrap=False, max_depth=60, max_features=auto, min_samples_leaf=2, min_samples_split=5, n_estimators=180;, score=0.974 total time= 1.5min\n"
          ]
        },
        {
          "output_type": "stream",
          "name": "stderr",
          "text": [
            "/usr/local/lib/python3.10/dist-packages/sklearn/ensemble/_forest.py:424: FutureWarning: `max_features='auto'` has been deprecated in 1.1 and will be removed in 1.3. To keep the past behaviour, explicitly set `max_features='sqrt'` or remove this parameter as it is also the default value for RandomForestClassifiers and ExtraTreesClassifiers.\n",
            "  warn(\n"
          ]
        },
        {
          "output_type": "stream",
          "name": "stdout",
          "text": [
            "[CV 3/3] END bootstrap=False, max_depth=60, max_features=auto, min_samples_leaf=2, min_samples_split=5, n_estimators=180;, score=0.973 total time= 1.5min\n",
            "[CV 1/3] END bootstrap=False, max_depth=60, max_features=sqrt, min_samples_leaf=4, min_samples_split=5, n_estimators=180;, score=0.969 total time= 1.2min\n",
            "[CV 2/3] END bootstrap=False, max_depth=60, max_features=sqrt, min_samples_leaf=4, min_samples_split=5, n_estimators=180;, score=0.970 total time= 1.3min\n",
            "[CV 3/3] END bootstrap=False, max_depth=60, max_features=sqrt, min_samples_leaf=4, min_samples_split=5, n_estimators=180;, score=0.971 total time= 1.2min\n"
          ]
        },
        {
          "output_type": "stream",
          "name": "stderr",
          "text": [
            "/usr/local/lib/python3.10/dist-packages/sklearn/ensemble/_forest.py:424: FutureWarning: `max_features='auto'` has been deprecated in 1.1 and will be removed in 1.3. To keep the past behaviour, explicitly set `max_features='sqrt'` or remove this parameter as it is also the default value for RandomForestClassifiers and ExtraTreesClassifiers.\n",
            "  warn(\n"
          ]
        },
        {
          "output_type": "stream",
          "name": "stdout",
          "text": [
            "[CV 1/3] END bootstrap=False, max_depth=80, max_features=auto, min_samples_leaf=2, min_samples_split=2, n_estimators=130;, score=0.971 total time= 1.3min\n"
          ]
        },
        {
          "output_type": "stream",
          "name": "stderr",
          "text": [
            "/usr/local/lib/python3.10/dist-packages/sklearn/ensemble/_forest.py:424: FutureWarning: `max_features='auto'` has been deprecated in 1.1 and will be removed in 1.3. To keep the past behaviour, explicitly set `max_features='sqrt'` or remove this parameter as it is also the default value for RandomForestClassifiers and ExtraTreesClassifiers.\n",
            "  warn(\n"
          ]
        },
        {
          "output_type": "stream",
          "name": "stdout",
          "text": [
            "[CV 2/3] END bootstrap=False, max_depth=80, max_features=auto, min_samples_leaf=2, min_samples_split=2, n_estimators=130;, score=0.975 total time= 1.3min\n"
          ]
        },
        {
          "output_type": "stream",
          "name": "stderr",
          "text": [
            "/usr/local/lib/python3.10/dist-packages/sklearn/ensemble/_forest.py:424: FutureWarning: `max_features='auto'` has been deprecated in 1.1 and will be removed in 1.3. To keep the past behaviour, explicitly set `max_features='sqrt'` or remove this parameter as it is also the default value for RandomForestClassifiers and ExtraTreesClassifiers.\n",
            "  warn(\n"
          ]
        },
        {
          "output_type": "stream",
          "name": "stdout",
          "text": [
            "[CV 3/3] END bootstrap=False, max_depth=80, max_features=auto, min_samples_leaf=2, min_samples_split=2, n_estimators=130;, score=0.974 total time= 1.2min\n"
          ]
        },
        {
          "output_type": "stream",
          "name": "stderr",
          "text": [
            "/usr/local/lib/python3.10/dist-packages/sklearn/ensemble/_forest.py:424: FutureWarning: `max_features='auto'` has been deprecated in 1.1 and will be removed in 1.3. To keep the past behaviour, explicitly set `max_features='sqrt'` or remove this parameter as it is also the default value for RandomForestClassifiers and ExtraTreesClassifiers.\n",
            "  warn(\n"
          ]
        },
        {
          "output_type": "stream",
          "name": "stdout",
          "text": [
            "[CV 1/3] END bootstrap=False, max_depth=20, max_features=auto, min_samples_leaf=4, min_samples_split=10, n_estimators=230;, score=0.965 total time=  44.5s\n"
          ]
        },
        {
          "output_type": "stream",
          "name": "stderr",
          "text": [
            "/usr/local/lib/python3.10/dist-packages/sklearn/ensemble/_forest.py:424: FutureWarning: `max_features='auto'` has been deprecated in 1.1 and will be removed in 1.3. To keep the past behaviour, explicitly set `max_features='sqrt'` or remove this parameter as it is also the default value for RandomForestClassifiers and ExtraTreesClassifiers.\n",
            "  warn(\n"
          ]
        },
        {
          "output_type": "stream",
          "name": "stdout",
          "text": [
            "[CV 2/3] END bootstrap=False, max_depth=20, max_features=auto, min_samples_leaf=4, min_samples_split=10, n_estimators=230;, score=0.962 total time=  42.6s\n"
          ]
        },
        {
          "output_type": "stream",
          "name": "stderr",
          "text": [
            "/usr/local/lib/python3.10/dist-packages/sklearn/ensemble/_forest.py:424: FutureWarning: `max_features='auto'` has been deprecated in 1.1 and will be removed in 1.3. To keep the past behaviour, explicitly set `max_features='sqrt'` or remove this parameter as it is also the default value for RandomForestClassifiers and ExtraTreesClassifiers.\n",
            "  warn(\n"
          ]
        },
        {
          "output_type": "stream",
          "name": "stdout",
          "text": [
            "[CV 3/3] END bootstrap=False, max_depth=20, max_features=auto, min_samples_leaf=4, min_samples_split=10, n_estimators=230;, score=0.968 total time=  41.7s\n"
          ]
        },
        {
          "output_type": "stream",
          "name": "stderr",
          "text": [
            "/usr/local/lib/python3.10/dist-packages/sklearn/ensemble/_forest.py:424: FutureWarning: `max_features='auto'` has been deprecated in 1.1 and will be removed in 1.3. To keep the past behaviour, explicitly set `max_features='sqrt'` or remove this parameter as it is also the default value for RandomForestClassifiers and ExtraTreesClassifiers.\n",
            "  warn(\n"
          ]
        },
        {
          "output_type": "stream",
          "name": "stdout",
          "text": [
            "[CV 1/3] END bootstrap=True, max_depth=60, max_features=auto, min_samples_leaf=4, min_samples_split=10, n_estimators=230;, score=0.966 total time= 1.0min\n"
          ]
        },
        {
          "output_type": "stream",
          "name": "stderr",
          "text": [
            "/usr/local/lib/python3.10/dist-packages/sklearn/ensemble/_forest.py:424: FutureWarning: `max_features='auto'` has been deprecated in 1.1 and will be removed in 1.3. To keep the past behaviour, explicitly set `max_features='sqrt'` or remove this parameter as it is also the default value for RandomForestClassifiers and ExtraTreesClassifiers.\n",
            "  warn(\n"
          ]
        },
        {
          "output_type": "stream",
          "name": "stdout",
          "text": [
            "[CV 2/3] END bootstrap=True, max_depth=60, max_features=auto, min_samples_leaf=4, min_samples_split=10, n_estimators=230;, score=0.969 total time=  59.3s\n"
          ]
        },
        {
          "output_type": "stream",
          "name": "stderr",
          "text": [
            "/usr/local/lib/python3.10/dist-packages/sklearn/ensemble/_forest.py:424: FutureWarning: `max_features='auto'` has been deprecated in 1.1 and will be removed in 1.3. To keep the past behaviour, explicitly set `max_features='sqrt'` or remove this parameter as it is also the default value for RandomForestClassifiers and ExtraTreesClassifiers.\n",
            "  warn(\n"
          ]
        },
        {
          "output_type": "stream",
          "name": "stdout",
          "text": [
            "[CV 3/3] END bootstrap=True, max_depth=60, max_features=auto, min_samples_leaf=4, min_samples_split=10, n_estimators=230;, score=0.970 total time=  57.9s\n"
          ]
        },
        {
          "output_type": "stream",
          "name": "stderr",
          "text": [
            "/usr/local/lib/python3.10/dist-packages/sklearn/ensemble/_forest.py:424: FutureWarning: `max_features='auto'` has been deprecated in 1.1 and will be removed in 1.3. To keep the past behaviour, explicitly set `max_features='sqrt'` or remove this parameter as it is also the default value for RandomForestClassifiers and ExtraTreesClassifiers.\n",
            "  warn(\n"
          ]
        },
        {
          "output_type": "stream",
          "name": "stdout",
          "text": [
            "[CV 1/3] END bootstrap=True, max_depth=100, max_features=auto, min_samples_leaf=4, min_samples_split=2, n_estimators=180;, score=0.969 total time=  59.3s\n"
          ]
        },
        {
          "output_type": "stream",
          "name": "stderr",
          "text": [
            "/usr/local/lib/python3.10/dist-packages/sklearn/ensemble/_forest.py:424: FutureWarning: `max_features='auto'` has been deprecated in 1.1 and will be removed in 1.3. To keep the past behaviour, explicitly set `max_features='sqrt'` or remove this parameter as it is also the default value for RandomForestClassifiers and ExtraTreesClassifiers.\n",
            "  warn(\n"
          ]
        },
        {
          "output_type": "stream",
          "name": "stdout",
          "text": [
            "[CV 2/3] END bootstrap=True, max_depth=100, max_features=auto, min_samples_leaf=4, min_samples_split=2, n_estimators=180;, score=0.972 total time=  58.0s\n"
          ]
        },
        {
          "output_type": "stream",
          "name": "stderr",
          "text": [
            "/usr/local/lib/python3.10/dist-packages/sklearn/ensemble/_forest.py:424: FutureWarning: `max_features='auto'` has been deprecated in 1.1 and will be removed in 1.3. To keep the past behaviour, explicitly set `max_features='sqrt'` or remove this parameter as it is also the default value for RandomForestClassifiers and ExtraTreesClassifiers.\n",
            "  warn(\n"
          ]
        },
        {
          "output_type": "stream",
          "name": "stdout",
          "text": [
            "[CV 3/3] END bootstrap=True, max_depth=100, max_features=auto, min_samples_leaf=4, min_samples_split=2, n_estimators=180;, score=0.973 total time=  57.0s\n"
          ]
        },
        {
          "output_type": "stream",
          "name": "stderr",
          "text": [
            "/usr/local/lib/python3.10/dist-packages/sklearn/ensemble/_forest.py:424: FutureWarning: `max_features='auto'` has been deprecated in 1.1 and will be removed in 1.3. To keep the past behaviour, explicitly set `max_features='sqrt'` or remove this parameter as it is also the default value for RandomForestClassifiers and ExtraTreesClassifiers.\n",
            "  warn(\n"
          ]
        },
        {
          "output_type": "stream",
          "name": "stdout",
          "text": [
            "[CV 1/3] END bootstrap=True, max_depth=70, max_features=auto, min_samples_leaf=2, min_samples_split=10, n_estimators=180;, score=0.970 total time= 1.0min\n"
          ]
        },
        {
          "output_type": "stream",
          "name": "stderr",
          "text": [
            "/usr/local/lib/python3.10/dist-packages/sklearn/ensemble/_forest.py:424: FutureWarning: `max_features='auto'` has been deprecated in 1.1 and will be removed in 1.3. To keep the past behaviour, explicitly set `max_features='sqrt'` or remove this parameter as it is also the default value for RandomForestClassifiers and ExtraTreesClassifiers.\n",
            "  warn(\n"
          ]
        },
        {
          "output_type": "stream",
          "name": "stdout",
          "text": [
            "[CV 2/3] END bootstrap=True, max_depth=70, max_features=auto, min_samples_leaf=2, min_samples_split=10, n_estimators=180;, score=0.972 total time=  59.9s\n"
          ]
        },
        {
          "output_type": "stream",
          "name": "stderr",
          "text": [
            "/usr/local/lib/python3.10/dist-packages/sklearn/ensemble/_forest.py:424: FutureWarning: `max_features='auto'` has been deprecated in 1.1 and will be removed in 1.3. To keep the past behaviour, explicitly set `max_features='sqrt'` or remove this parameter as it is also the default value for RandomForestClassifiers and ExtraTreesClassifiers.\n",
            "  warn(\n"
          ]
        },
        {
          "output_type": "stream",
          "name": "stdout",
          "text": [
            "[CV 3/3] END bootstrap=True, max_depth=70, max_features=auto, min_samples_leaf=2, min_samples_split=10, n_estimators=180;, score=0.972 total time=  59.5s\n"
          ]
        },
        {
          "output_type": "stream",
          "name": "stderr",
          "text": [
            "/usr/local/lib/python3.10/dist-packages/sklearn/ensemble/_forest.py:424: FutureWarning: `max_features='auto'` has been deprecated in 1.1 and will be removed in 1.3. To keep the past behaviour, explicitly set `max_features='sqrt'` or remove this parameter as it is also the default value for RandomForestClassifiers and ExtraTreesClassifiers.\n",
            "  warn(\n"
          ]
        },
        {
          "output_type": "stream",
          "name": "stdout",
          "text": [
            "[CV 1/3] END bootstrap=False, max_depth=50, max_features=auto, min_samples_leaf=1, min_samples_split=5, n_estimators=180;, score=0.972 total time= 1.5min\n"
          ]
        },
        {
          "output_type": "stream",
          "name": "stderr",
          "text": [
            "/usr/local/lib/python3.10/dist-packages/sklearn/ensemble/_forest.py:424: FutureWarning: `max_features='auto'` has been deprecated in 1.1 and will be removed in 1.3. To keep the past behaviour, explicitly set `max_features='sqrt'` or remove this parameter as it is also the default value for RandomForestClassifiers and ExtraTreesClassifiers.\n",
            "  warn(\n"
          ]
        },
        {
          "output_type": "stream",
          "name": "stdout",
          "text": [
            "[CV 2/3] END bootstrap=False, max_depth=50, max_features=auto, min_samples_leaf=1, min_samples_split=5, n_estimators=180;, score=0.972 total time= 1.5min\n"
          ]
        },
        {
          "output_type": "stream",
          "name": "stderr",
          "text": [
            "/usr/local/lib/python3.10/dist-packages/sklearn/ensemble/_forest.py:424: FutureWarning: `max_features='auto'` has been deprecated in 1.1 and will be removed in 1.3. To keep the past behaviour, explicitly set `max_features='sqrt'` or remove this parameter as it is also the default value for RandomForestClassifiers and ExtraTreesClassifiers.\n",
            "  warn(\n"
          ]
        },
        {
          "output_type": "stream",
          "name": "stdout",
          "text": [
            "[CV 3/3] END bootstrap=False, max_depth=50, max_features=auto, min_samples_leaf=1, min_samples_split=5, n_estimators=180;, score=0.974 total time= 1.4min\n",
            "[CV 1/3] END bootstrap=False, max_depth=70, max_features=sqrt, min_samples_leaf=1, min_samples_split=2, n_estimators=230;, score=0.974 total time= 2.6min\n",
            "[CV 2/3] END bootstrap=False, max_depth=70, max_features=sqrt, min_samples_leaf=1, min_samples_split=2, n_estimators=230;, score=0.975 total time= 2.7min\n",
            "[CV 3/3] END bootstrap=False, max_depth=70, max_features=sqrt, min_samples_leaf=1, min_samples_split=2, n_estimators=230;, score=0.977 total time= 2.6min\n",
            "[CV 1/3] END bootstrap=False, max_depth=None, max_features=sqrt, min_samples_leaf=4, min_samples_split=5, n_estimators=230;, score=0.977 total time= 2.4min\n",
            "[CV 2/3] END bootstrap=False, max_depth=None, max_features=sqrt, min_samples_leaf=4, min_samples_split=5, n_estimators=230;, score=0.978 total time= 2.4min\n",
            "[CV 3/3] END bootstrap=False, max_depth=None, max_features=sqrt, min_samples_leaf=4, min_samples_split=5, n_estimators=230;, score=0.982 total time= 2.4min\n",
            "[CV 1/3] END bootstrap=False, max_depth=40, max_features=sqrt, min_samples_leaf=4, min_samples_split=10, n_estimators=130;, score=0.963 total time=  44.0s\n",
            "[CV 2/3] END bootstrap=False, max_depth=40, max_features=sqrt, min_samples_leaf=4, min_samples_split=10, n_estimators=130;, score=0.966 total time=  42.0s\n",
            "[CV 3/3] END bootstrap=False, max_depth=40, max_features=sqrt, min_samples_leaf=4, min_samples_split=10, n_estimators=130;, score=0.967 total time=  41.3s\n",
            "[CV 1/3] END bootstrap=False, max_depth=80, max_features=sqrt, min_samples_leaf=4, min_samples_split=10, n_estimators=180;, score=0.969 total time= 1.4min\n",
            "[CV 2/3] END bootstrap=False, max_depth=80, max_features=sqrt, min_samples_leaf=4, min_samples_split=10, n_estimators=180;, score=0.972 total time= 1.4min\n",
            "[CV 3/3] END bootstrap=False, max_depth=80, max_features=sqrt, min_samples_leaf=4, min_samples_split=10, n_estimators=180;, score=0.972 total time= 1.4min\n",
            "{'n_estimators': 230, 'min_samples_split': 5, 'min_samples_leaf': 4, 'max_features': 'sqrt', 'max_depth': None, 'bootstrap': False}\n",
            "CPU times: user 1h 9min 38s, sys: 4.12 s, total: 1h 9min 42s\n",
            "Wall time: 1h 9min 56s\n"
          ]
        }
      ]
    },
    {
      "cell_type": "markdown",
      "source": [
        "### XGBoost\n",
        "\n",
        "I will only tune the Char Level TF-IDF XGBoost classifier as it had significantly better results compared to the other models."
      ],
      "metadata": {
        "id": "uAgaLaR-uQCo"
      }
    },
    {
      "cell_type": "code",
      "source": [
        "%%time\n",
        "# XGBoost, Char Level TF-IDF Vectorizer Tuning\n",
        "xgb = xgb.XGBClassifier(objective = 'binary:logistic')\n",
        "param_dist = {'n_estimators': stats.randint(150, 1000),\n",
        "              'learning_rate': stats.uniform(0.01, 0.59),\n",
        "              'subsample': stats.uniform(0.3, 0.6),\n",
        "              'max_depth': [3, 4, 5, 6, 7, 8, 9],\n",
        "              'colsample_bytree': stats.uniform(0.5, 0.4),\n",
        "              'min_child_weight': [1, 2, 3, 4]}\n",
        "\n",
        "grid_search_xgb = RandomizedSearchCV(xgb,\n",
        "                                    param_distributions = param_dist,\n",
        "                                    cv = 3,\n",
        "                                    n_iter = 20,\n",
        "                                    scoring = 'accuracy',\n",
        "                                    verbose = 3)\n",
        "\n",
        "vectorizer = TfidfVectorizer(analyzer='char', ngram_range=(2,3))\n",
        "X_train_all_tfidf_char = vectorizer.fit_transform(X_train_all)\n",
        "\n",
        "grid_search_xgb.fit(X_train_all_tfidf_char, y_train_all)\n",
        "\n",
        "best_xgb = grid_search_xgb.best_estimator_\n",
        "print(grid_search_xgb.best_params_)"
      ],
      "metadata": {
        "colab": {
          "base_uri": "https://localhost:8080/"
        },
        "id": "AOoYbcwRr6wC",
        "outputId": "3c540068-7c4e-4057-e772-64debe593100"
      },
      "execution_count": 27,
      "outputs": [
        {
          "output_type": "stream",
          "name": "stdout",
          "text": [
            "Fitting 3 folds for each of 20 candidates, totalling 60 fits\n",
            "[CV 1/3] END colsample_bytree=0.849639276642066, learning_rate=0.219453560661678, max_depth=9, min_child_weight=2, n_estimators=745, subsample=0.6244526870676246;, score=0.978 total time=20.2min\n",
            "[CV 2/3] END colsample_bytree=0.849639276642066, learning_rate=0.219453560661678, max_depth=9, min_child_weight=2, n_estimators=745, subsample=0.6244526870676246;, score=0.977 total time=20.8min\n",
            "[CV 3/3] END colsample_bytree=0.849639276642066, learning_rate=0.219453560661678, max_depth=9, min_child_weight=2, n_estimators=745, subsample=0.6244526870676246;, score=0.980 total time=20.7min\n",
            "[CV 1/3] END colsample_bytree=0.8650400619139674, learning_rate=0.4431296739003133, max_depth=5, min_child_weight=3, n_estimators=277, subsample=0.6297694638296976;, score=0.973 total time= 8.1min\n",
            "[CV 2/3] END colsample_bytree=0.8650400619139674, learning_rate=0.4431296739003133, max_depth=5, min_child_weight=3, n_estimators=277, subsample=0.6297694638296976;, score=0.976 total time= 8.4min\n",
            "[CV 3/3] END colsample_bytree=0.8650400619139674, learning_rate=0.4431296739003133, max_depth=5, min_child_weight=3, n_estimators=277, subsample=0.6297694638296976;, score=0.978 total time= 8.3min\n",
            "[CV 1/3] END colsample_bytree=0.8104069123418999, learning_rate=0.45546602120148555, max_depth=9, min_child_weight=4, n_estimators=304, subsample=0.5780967196206575;, score=0.976 total time= 7.6min\n",
            "[CV 2/3] END colsample_bytree=0.8104069123418999, learning_rate=0.45546602120148555, max_depth=9, min_child_weight=4, n_estimators=304, subsample=0.5780967196206575;, score=0.974 total time= 7.6min\n",
            "[CV 3/3] END colsample_bytree=0.8104069123418999, learning_rate=0.45546602120148555, max_depth=9, min_child_weight=4, n_estimators=304, subsample=0.5780967196206575;, score=0.977 total time= 7.8min\n",
            "[CV 1/3] END colsample_bytree=0.6729336980081587, learning_rate=0.1366190564826169, max_depth=9, min_child_weight=1, n_estimators=797, subsample=0.6286665050176863;, score=0.979 total time=24.2min\n",
            "[CV 2/3] END colsample_bytree=0.6729336980081587, learning_rate=0.1366190564826169, max_depth=9, min_child_weight=1, n_estimators=797, subsample=0.6286665050176863;, score=0.978 total time=24.6min\n",
            "[CV 3/3] END colsample_bytree=0.6729336980081587, learning_rate=0.1366190564826169, max_depth=9, min_child_weight=1, n_estimators=797, subsample=0.6286665050176863;, score=0.980 total time=24.9min\n",
            "[CV 1/3] END colsample_bytree=0.8870547869732809, learning_rate=0.3416058079262839, max_depth=6, min_child_weight=4, n_estimators=425, subsample=0.8638934100214652;, score=0.979 total time=13.7min\n",
            "[CV 2/3] END colsample_bytree=0.8870547869732809, learning_rate=0.3416058079262839, max_depth=6, min_child_weight=4, n_estimators=425, subsample=0.8638934100214652;, score=0.978 total time=13.8min\n",
            "[CV 3/3] END colsample_bytree=0.8870547869732809, learning_rate=0.3416058079262839, max_depth=6, min_child_weight=4, n_estimators=425, subsample=0.8638934100214652;, score=0.982 total time=14.1min\n",
            "[CV 1/3] END colsample_bytree=0.5700260434811786, learning_rate=0.266317767085323, max_depth=5, min_child_weight=4, n_estimators=193, subsample=0.746776782272353;, score=0.977 total time= 5.4min\n",
            "[CV 2/3] END colsample_bytree=0.5700260434811786, learning_rate=0.266317767085323, max_depth=5, min_child_weight=4, n_estimators=193, subsample=0.746776782272353;, score=0.978 total time= 5.5min\n",
            "[CV 3/3] END colsample_bytree=0.5700260434811786, learning_rate=0.266317767085323, max_depth=5, min_child_weight=4, n_estimators=193, subsample=0.746776782272353;, score=0.982 total time= 5.5min\n",
            "[CV 1/3] END colsample_bytree=0.5117624024112916, learning_rate=0.38554633685488365, max_depth=5, min_child_weight=3, n_estimators=258, subsample=0.6039790092146707;, score=0.977 total time= 5.0min\n",
            "[CV 2/3] END colsample_bytree=0.5117624024112916, learning_rate=0.38554633685488365, max_depth=5, min_child_weight=3, n_estimators=258, subsample=0.6039790092146707;, score=0.976 total time= 5.2min\n",
            "[CV 3/3] END colsample_bytree=0.5117624024112916, learning_rate=0.38554633685488365, max_depth=5, min_child_weight=3, n_estimators=258, subsample=0.6039790092146707;, score=0.979 total time= 5.2min\n",
            "[CV 1/3] END colsample_bytree=0.5356982449422039, learning_rate=0.013683709198806434, max_depth=3, min_child_weight=1, n_estimators=747, subsample=0.6295496001144933;, score=0.950 total time=13.8min\n",
            "[CV 2/3] END colsample_bytree=0.5356982449422039, learning_rate=0.013683709198806434, max_depth=3, min_child_weight=1, n_estimators=747, subsample=0.6295496001144933;, score=0.948 total time=14.0min\n",
            "[CV 3/3] END colsample_bytree=0.5356982449422039, learning_rate=0.013683709198806434, max_depth=3, min_child_weight=1, n_estimators=747, subsample=0.6295496001144933;, score=0.954 total time=13.9min\n",
            "[CV 1/3] END colsample_bytree=0.545440043235975, learning_rate=0.023864870179521665, max_depth=7, min_child_weight=3, n_estimators=467, subsample=0.6705212785800105;, score=0.972 total time=18.6min\n",
            "[CV 2/3] END colsample_bytree=0.545440043235975, learning_rate=0.023864870179521665, max_depth=7, min_child_weight=3, n_estimators=467, subsample=0.6705212785800105;, score=0.972 total time=18.6min\n",
            "[CV 3/3] END colsample_bytree=0.545440043235975, learning_rate=0.023864870179521665, max_depth=7, min_child_weight=3, n_estimators=467, subsample=0.6705212785800105;, score=0.976 total time=18.4min\n",
            "[CV 1/3] END colsample_bytree=0.5897353503563514, learning_rate=0.3985984554084649, max_depth=6, min_child_weight=2, n_estimators=917, subsample=0.6005699564748214;, score=0.975 total time=12.5min\n",
            "[CV 2/3] END colsample_bytree=0.5897353503563514, learning_rate=0.3985984554084649, max_depth=6, min_child_weight=2, n_estimators=917, subsample=0.6005699564748214;, score=0.976 total time=12.6min\n",
            "[CV 3/3] END colsample_bytree=0.5897353503563514, learning_rate=0.3985984554084649, max_depth=6, min_child_weight=2, n_estimators=917, subsample=0.6005699564748214;, score=0.979 total time=12.7min\n",
            "[CV 1/3] END colsample_bytree=0.8542739216267445, learning_rate=0.14913213738362974, max_depth=3, min_child_weight=3, n_estimators=309, subsample=0.895780030999558;, score=0.976 total time= 9.9min\n",
            "[CV 2/3] END colsample_bytree=0.8542739216267445, learning_rate=0.14913213738362974, max_depth=3, min_child_weight=3, n_estimators=309, subsample=0.895780030999558;, score=0.975 total time=10.1min\n",
            "[CV 3/3] END colsample_bytree=0.8542739216267445, learning_rate=0.14913213738362974, max_depth=3, min_child_weight=3, n_estimators=309, subsample=0.895780030999558;, score=0.977 total time=10.0min\n",
            "[CV 1/3] END colsample_bytree=0.8661380734065237, learning_rate=0.06696918525629052, max_depth=7, min_child_weight=1, n_estimators=372, subsample=0.6944883292979386;, score=0.978 total time=22.8min\n",
            "[CV 2/3] END colsample_bytree=0.8661380734065237, learning_rate=0.06696918525629052, max_depth=7, min_child_weight=1, n_estimators=372, subsample=0.6944883292979386;, score=0.979 total time=22.5min\n",
            "[CV 3/3] END colsample_bytree=0.8661380734065237, learning_rate=0.06696918525629052, max_depth=7, min_child_weight=1, n_estimators=372, subsample=0.6944883292979386;, score=0.981 total time=22.3min\n",
            "[CV 1/3] END colsample_bytree=0.6658314539071265, learning_rate=0.5736695248218768, max_depth=3, min_child_weight=2, n_estimators=433, subsample=0.762749141204772;, score=0.976 total time= 7.5min\n",
            "[CV 2/3] END colsample_bytree=0.6658314539071265, learning_rate=0.5736695248218768, max_depth=3, min_child_weight=2, n_estimators=433, subsample=0.762749141204772;, score=0.978 total time= 7.7min\n",
            "[CV 3/3] END colsample_bytree=0.6658314539071265, learning_rate=0.5736695248218768, max_depth=3, min_child_weight=2, n_estimators=433, subsample=0.762749141204772;, score=0.980 total time= 7.7min\n",
            "[CV 1/3] END colsample_bytree=0.5415650307519067, learning_rate=0.14232127484186657, max_depth=4, min_child_weight=4, n_estimators=558, subsample=0.6118059580832087;, score=0.979 total time=10.5min\n",
            "[CV 2/3] END colsample_bytree=0.5415650307519067, learning_rate=0.14232127484186657, max_depth=4, min_child_weight=4, n_estimators=558, subsample=0.6118059580832087;, score=0.979 total time=10.5min\n",
            "[CV 3/3] END colsample_bytree=0.5415650307519067, learning_rate=0.14232127484186657, max_depth=4, min_child_weight=4, n_estimators=558, subsample=0.6118059580832087;, score=0.982 total time=10.6min\n",
            "[CV 1/3] END colsample_bytree=0.5323868008997735, learning_rate=0.4041100541013909, max_depth=6, min_child_weight=4, n_estimators=648, subsample=0.4948368536284723;, score=0.973 total time= 7.6min\n",
            "[CV 2/3] END colsample_bytree=0.5323868008997735, learning_rate=0.4041100541013909, max_depth=6, min_child_weight=4, n_estimators=648, subsample=0.4948368536284723;, score=0.973 total time= 7.6min\n",
            "[CV 3/3] END colsample_bytree=0.5323868008997735, learning_rate=0.4041100541013909, max_depth=6, min_child_weight=4, n_estimators=648, subsample=0.4948368536284723;, score=0.976 total time= 7.7min\n",
            "[CV 1/3] END colsample_bytree=0.524838988444564, learning_rate=0.5833674866387683, max_depth=7, min_child_weight=4, n_estimators=731, subsample=0.7339415283594088;, score=0.974 total time= 7.9min\n",
            "[CV 2/3] END colsample_bytree=0.524838988444564, learning_rate=0.5833674866387683, max_depth=7, min_child_weight=4, n_estimators=731, subsample=0.7339415283594088;, score=0.976 total time= 8.0min\n",
            "[CV 3/3] END colsample_bytree=0.524838988444564, learning_rate=0.5833674866387683, max_depth=7, min_child_weight=4, n_estimators=731, subsample=0.7339415283594088;, score=0.977 total time= 8.1min\n",
            "[CV 1/3] END colsample_bytree=0.6261587169336466, learning_rate=0.38795519776902654, max_depth=6, min_child_weight=3, n_estimators=155, subsample=0.5632048478384777;, score=0.977 total time= 4.1min\n",
            "[CV 2/3] END colsample_bytree=0.6261587169336466, learning_rate=0.38795519776902654, max_depth=6, min_child_weight=3, n_estimators=155, subsample=0.5632048478384777;, score=0.975 total time= 4.3min\n",
            "[CV 3/3] END colsample_bytree=0.6261587169336466, learning_rate=0.38795519776902654, max_depth=6, min_child_weight=3, n_estimators=155, subsample=0.5632048478384777;, score=0.977 total time= 4.3min\n",
            "[CV 1/3] END colsample_bytree=0.7275759079997528, learning_rate=0.33477753043782055, max_depth=3, min_child_weight=2, n_estimators=398, subsample=0.5502234209972582;, score=0.977 total time= 7.4min\n",
            "[CV 2/3] END colsample_bytree=0.7275759079997528, learning_rate=0.33477753043782055, max_depth=3, min_child_weight=2, n_estimators=398, subsample=0.5502234209972582;, score=0.979 total time= 7.6min\n",
            "[CV 3/3] END colsample_bytree=0.7275759079997528, learning_rate=0.33477753043782055, max_depth=3, min_child_weight=2, n_estimators=398, subsample=0.5502234209972582;, score=0.981 total time= 7.5min\n",
            "[CV 1/3] END colsample_bytree=0.574533863799693, learning_rate=0.17751423240136285, max_depth=4, min_child_weight=4, n_estimators=661, subsample=0.5481676569142292;, score=0.978 total time=11.1min\n",
            "[CV 2/3] END colsample_bytree=0.574533863799693, learning_rate=0.17751423240136285, max_depth=4, min_child_weight=4, n_estimators=661, subsample=0.5481676569142292;, score=0.979 total time=11.2min\n",
            "[CV 3/3] END colsample_bytree=0.574533863799693, learning_rate=0.17751423240136285, max_depth=4, min_child_weight=4, n_estimators=661, subsample=0.5481676569142292;, score=0.980 total time=11.3min\n",
            "[CV 1/3] END colsample_bytree=0.6288400869318225, learning_rate=0.1943815413356013, max_depth=6, min_child_weight=1, n_estimators=551, subsample=0.3066837420893635;, score=0.977 total time= 9.1min\n",
            "[CV 2/3] END colsample_bytree=0.6288400869318225, learning_rate=0.1943815413356013, max_depth=6, min_child_weight=1, n_estimators=551, subsample=0.3066837420893635;, score=0.977 total time= 9.2min\n",
            "[CV 3/3] END colsample_bytree=0.6288400869318225, learning_rate=0.1943815413356013, max_depth=6, min_child_weight=1, n_estimators=551, subsample=0.3066837420893635;, score=0.979 total time= 9.2min\n",
            "{'colsample_bytree': 0.5415650307519067, 'learning_rate': 0.14232127484186657, 'max_depth': 4, 'min_child_weight': 4, 'n_estimators': 558, 'subsample': 0.6118059580832087}\n",
            "CPU times: user 19h 45min 55s, sys: 1min 4s, total: 19h 46min 59s\n",
            "Wall time: 11h 44min 7s\n"
          ]
        }
      ]
    },
    {
      "cell_type": "markdown",
      "source": [
        "## Step 4: Results"
      ],
      "metadata": {
        "id": "yhBv5PKar3GV"
      }
    },
    {
      "cell_type": "markdown",
      "source": [
        "In the previous section (Reproduction of Available Solutions), I reproduced an RF model with TFIDF Vecorization. Here are its results on the testing set:"
      ],
      "metadata": {
        "id": "jqec6CuConmP"
      }
    },
    {
      "cell_type": "code",
      "source": [
        "%%time\n",
        "# Count Vectorizor\n",
        "vectorizer = TfidfVectorizer()\n",
        "vectorizer.fit(X_train_all)\n",
        "X_train_all_tfidf = vectorizer.transform(X_train_all)\n",
        "X_test_tfidf = vectorizer.transform(X_test)"
      ],
      "metadata": {
        "colab": {
          "base_uri": "https://localhost:8080/"
        },
        "id": "wNUwYd1Fo00H",
        "outputId": "1ae8cfca-8bbd-480a-e13e-3d6a4411fbb2"
      },
      "execution_count": 11,
      "outputs": [
        {
          "output_type": "stream",
          "name": "stdout",
          "text": [
            "CPU times: user 12.5 s, sys: 216 ms, total: 12.8 s\n",
            "Wall time: 13 s\n"
          ]
        }
      ]
    },
    {
      "cell_type": "code",
      "source": [
        "%%time\n",
        "# RF on TFIDF Vectors\n",
        "print(\"TUNED Random Forest, TFIDF Vector Results:\")\n",
        "best_rf_tfidf = RandomForestClassifier(n_estimators=230, min_samples_split=5, min_samples_leaf=4, max_features='sqrt', max_depth=None, bootstrap=False)\n",
        "train_model(best_rf_tfidf, X_train_all_tfidf, y_train_all, X_test_tfidf, y_test)"
      ],
      "metadata": {
        "colab": {
          "base_uri": "https://localhost:8080/"
        },
        "id": "mLswD13Vo0-f",
        "outputId": "858d4d7c-8a44-4dfb-9a62-727eecd9c4e3"
      },
      "execution_count": 20,
      "outputs": [
        {
          "output_type": "stream",
          "name": "stdout",
          "text": [
            "TUNED Random Forest, TFIDF Vector Results:\n",
            "Test accuracy: 0.980\n",
            "F1 Score: 0.980\n",
            "Recall: 0.980\n",
            "Precision: 0.979\n",
            "CPU times: user 1min 1s, sys: 118 ms, total: 1min 1s\n",
            "Wall time: 1min 12s\n"
          ]
        }
      ]
    },
    {
      "cell_type": "code",
      "source": [
        "%%time\n",
        "# RF on TFIDF Vectors\n",
        "print(\"UNTUNED Random Forest, TFIDF Vector Results:\")\n",
        "train_model(RandomForestClassifier(), X_train_all_tfidf, y_train_all, X_test_tfidf, y_test)"
      ],
      "metadata": {
        "colab": {
          "base_uri": "https://localhost:8080/"
        },
        "id": "IUbzl-ThSiLo",
        "outputId": "3b15eda2-c823-48cb-fd64-9169b23bca74"
      },
      "execution_count": 21,
      "outputs": [
        {
          "output_type": "stream",
          "name": "stdout",
          "text": [
            "Random Forest, TFIDF Vector Results:\n",
            "Test accuracy: 0.983\n",
            "F1 Score: 0.983\n",
            "Recall: 0.983\n",
            "Precision: 0.983\n",
            "CPU times: user 1min 50s, sys: 173 ms, total: 1min 50s\n",
            "Wall time: 1min 53s\n"
          ]
        }
      ]
    },
    {
      "cell_type": "markdown",
      "source": [
        "In this section, after experimenting with various feature extraction and ensemble models, the Random Forest model with Count Vectorization performed best, so let's view its results with the testing set:"
      ],
      "metadata": {
        "id": "MhVq1HWgpO0y"
      }
    },
    {
      "cell_type": "code",
      "source": [
        "%%time\n",
        "# Count Vectorizor\n",
        "vectorizer = CountVectorizer()\n",
        "vectorizer.fit(X_train_all)\n",
        "X_train_all_count = vectorizer.transform(X_train_all)\n",
        "X_test_count = vectorizer.transform(X_test)"
      ],
      "metadata": {
        "colab": {
          "base_uri": "https://localhost:8080/"
        },
        "id": "7m6OTlqjHNsw",
        "outputId": "8491130e-2e91-482d-d0ae-8847cdf24d89"
      },
      "execution_count": 13,
      "outputs": [
        {
          "output_type": "stream",
          "name": "stdout",
          "text": [
            "CPU times: user 12.2 s, sys: 94.4 ms, total: 12.3 s\n",
            "Wall time: 12.4 s\n"
          ]
        }
      ]
    },
    {
      "cell_type": "code",
      "source": [
        "%%time\n",
        "# RF on Count Vectors\n",
        "print(\"TUNED Random Forest, Count Vector Results:\")\n",
        "best_rf_count = RandomForestClassifier(n_estimators=230, min_samples_split=2, min_samples_leaf=1, max_features='sqrt', max_depth=110, bootstrap=False)\n",
        "train_model(best_rf_count, X_train_all_count, y_train_all, X_test_count, y_test)"
      ],
      "metadata": {
        "colab": {
          "base_uri": "https://localhost:8080/"
        },
        "id": "e26-JVQPIhx_",
        "outputId": "4f8add29-702f-4ebd-e215-f7c63d4fae49"
      },
      "execution_count": 22,
      "outputs": [
        {
          "output_type": "stream",
          "name": "stdout",
          "text": [
            "TUNED Random Forest, Count Vector Results:\n",
            "Test accuracy: 0.980\n",
            "F1 Score: 0.980\n",
            "Recall: 0.980\n",
            "Precision: 0.980\n",
            "CPU times: user 3min, sys: 183 ms, total: 3min\n",
            "Wall time: 3min 1s\n"
          ]
        }
      ]
    },
    {
      "cell_type": "code",
      "source": [
        "%%time\n",
        "# RF on Count Vectors\n",
        "print(\"UNTUNED Random Forest, Count Vector Results:\")\n",
        "train_model(RandomForestClassifier(), X_train_all_count, y_train_all, X_test_count, y_test)"
      ],
      "metadata": {
        "colab": {
          "base_uri": "https://localhost:8080/"
        },
        "id": "9kU0L4z4Smjj",
        "outputId": "9b987f5b-87bd-4719-d8a5-6f7c7848e82e"
      },
      "execution_count": 23,
      "outputs": [
        {
          "output_type": "stream",
          "name": "stdout",
          "text": [
            "UNTUNED Random Forest, Count Vector Results:\n",
            "Test accuracy: 0.981\n",
            "F1 Score: 0.981\n",
            "Recall: 0.981\n",
            "Precision: 0.981\n",
            "CPU times: user 2min 2s, sys: 148 ms, total: 2min 2s\n",
            "Wall time: 2min 3s\n"
          ]
        }
      ]
    },
    {
      "cell_type": "markdown",
      "source": [
        "XGBoost Classifier with Char Level TF-IDF"
      ],
      "metadata": {
        "id": "OknEwr_xz50l"
      }
    },
    {
      "cell_type": "code",
      "source": [
        "%%time\n",
        "# Char Level TF-IDF Vectorizor\n",
        "vectorizer = TfidfVectorizer(analyzer='char', ngram_range=(2,3))\n",
        "vectorizer.fit(X_train_all)\n",
        "X_train_all_tfidf_char = vectorizer.transform(X_train_all)\n",
        "X_test_tfidf_char = vectorizer.transform(X_test)"
      ],
      "metadata": {
        "colab": {
          "base_uri": "https://localhost:8080/"
        },
        "id": "umNuMQbfz5Lt",
        "outputId": "134cda9f-ef52-4f73-8a5c-bd9412f10f2d"
      },
      "execution_count": 15,
      "outputs": [
        {
          "output_type": "stream",
          "name": "stdout",
          "text": [
            "CPU times: user 1min 50s, sys: 1.2 s, total: 1min 51s\n",
            "Wall time: 1min 52s\n"
          ]
        }
      ]
    },
    {
      "cell_type": "code",
      "source": [
        "%%time\n",
        "# XGBoost on Char Level TF-IDF Vectors\n",
        "print(\"TUNED XGBoost, Char Level TF-IDF Vector Results:\")\n",
        "best_xgb = xgb.XGBClassifier(objective = 'binary:logistic', n_estimators=558, learning_rate=0.14232127484186657, subsample=0.6118059580832087, max_depth=4, colsample_bytree=0.5415650307519067, min_child_weight=4)\n",
        "train_model(best_xgb, X_train_all_tfidf_char, y_train_all, X_test_tfidf_char, y_test)"
      ],
      "metadata": {
        "colab": {
          "base_uri": "https://localhost:8080/"
        },
        "id": "WtsTCoXlz5VD",
        "outputId": "7d5f05c7-a8b8-4848-fc89-34e9fd3e5c8b"
      },
      "execution_count": 24,
      "outputs": [
        {
          "output_type": "stream",
          "name": "stdout",
          "text": [
            "TUNED XGBoost, Char Level TF-IDF Vector Results:\n",
            "Test accuracy: 0.982\n",
            "F1 Score: 0.982\n",
            "Recall: 0.983\n",
            "Precision: 0.982\n",
            "CPU times: user 28min 32s, sys: 1.77 s, total: 28min 33s\n",
            "Wall time: 17min 20s\n"
          ]
        }
      ]
    },
    {
      "cell_type": "code",
      "source": [
        "%%time\n",
        "# XGBoost on Char Level TF-IDF Vectors\n",
        "print(\"UNTUNED XGBoost, Char Level TF-IDF Vector Results:\")\n",
        "train_model(xgb.XGBClassifier(), X_train_all_tfidf_char, y_train_all, X_test_tfidf_char, y_test)"
      ],
      "metadata": {
        "colab": {
          "base_uri": "https://localhost:8080/"
        },
        "id": "jgQ9iFveStND",
        "outputId": "7fb2b3ca-7b61-47bb-f8c0-4177c61126fe"
      },
      "execution_count": 25,
      "outputs": [
        {
          "output_type": "stream",
          "name": "stdout",
          "text": [
            "UNTUNED XGBoost, Char Level TF-IDF Vector Results:\n",
            "Test accuracy: 0.978\n",
            "F1 Score: 0.978\n",
            "Recall: 0.978\n",
            "Precision: 0.978\n",
            "CPU times: user 19min 39s, sys: 1.18 s, total: 19min 40s\n",
            "Wall time: 12min 2s\n"
          ]
        }
      ]
    },
    {
      "cell_type": "markdown",
      "source": [
        "### Step 4: Summary\n",
        "\n",
        "Overall, I found that the **untuned Random Forest model using both TF-IDF (on the word level) and Count Vectorization, as well as tuned XGBoost model using TF-IDF (on the character level), produced approximately equal results** - between **98.1-98.3% accuracy**.\n",
        "\n",
        "Furthermore, I found that TF-IDF feature extraction on the ngram level resulted in a less accurate model for both Random Forest and XGBoost models."
      ],
      "metadata": {
        "id": "KfUfK9yWpYGS"
      }
    }
  ]
}