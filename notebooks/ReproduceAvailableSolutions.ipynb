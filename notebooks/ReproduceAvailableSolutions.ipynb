{
 "cells": [
  {
   "cell_type": "markdown",
   "metadata": {
    "id": "JxaU8Buh5NWS"
   },
   "source": [
    "# **Potential Public Solutions**\n",
    "The following is a summary of research papers/articles (with links) that focus on classifying spam emails. Since my dataset contains both the [SpamAssassin](https://spamassassin.apache.org/old/publiccorpus/) and [Enron Spam](https://www2.aueb.gr/users/ion/data/enron-spam/) datasets, this section will be split into two parts, each corresponding with one of the datasets."
   ]
  },
  {
   "cell_type": "markdown",
   "metadata": {
    "id": "lm60FF-w5XK6"
   },
   "source": [
    "### **Solution with the SpamAssassin dataset:**"
   ]
  },
  {
   "cell_type": "markdown",
   "metadata": {
    "id": "y_2SycNB8Xbj"
   },
   "source": [
    "#### **\"[Email Spam Classification](https://medium.com/@yesprabhakaran98/email-spam-classification-92b661d3b700)\"** by prabhakran98  (via medium.com):\n",
    "\n",
    "***Dataset***:\n",
    "- [SpamAssassin dataset](https://spamassassin.apache.org/old/publiccorpus/)\n",
    "\n",
    "***Data Preprocessing***:\n",
    "- Perform **TF-IDF** on the text corpus  \n",
    "  >TF-IDF is an algorithm that uses the frequency of words to determine how relevant those words are to a given document.\n",
    "  \n",
    "***Model Training Techniques & Evaluation***:\n",
    "\n",
    "| Model                     | Accuracy    | F 0.5 Score\n",
    "| :-----------------------: | :---------: | :----------:\n",
    "| **Random Forest**         | 0.98        | 0.98\n",
    "| **XGBoost**               | 0.97        | 0.96\n",
    "| **Decision Tree**         | 0.93        | 0.93\n",
    "| **Logistic Regression**   | 0.93        | 0.93\n",
    "| **Naive Bayes**           | 0.89        | 0.90\n",
    "| **KNN**                   | 0.67        | 0.54\n",
    "\n",
    "  >Notes:\n",
    "  - All models included hyperparameter tuning using a grid search\n",
    "  - F 0.5 Score is used as a metric (rather than F1 score) since the SpamAssassin dataset is imbalanced\n",
    "\n",
    "  ***Conclusion***:  \n",
    "  Ensemble Models perform better, especially the **Random Forest model**, as it had the highest accuracy and F 0.5 score.   \n",
    "  However, all models acheive a 90+ score except for K Nearest Neighbor."
   ]
  },
  {
   "cell_type": "markdown",
   "metadata": {
    "id": "zXWAGElF5kUF"
   },
   "source": [
    "### **Solution with the Enron Spam dataset:**"
   ]
  },
  {
   "cell_type": "markdown",
   "metadata": {
    "id": "t-cU9lUh6I-p"
   },
   "source": [
    "#### **\"[Empirical Analysis on Email Classification Using the Enron Dataset](https://towardsdatascience.com/empirical-analysis-on-email-classification-using-the-enron-dataset-19054d558697)\"** by Suleka Helmini  (via towardsdatascience.com):\n",
    "- [Github Code Link](https://github.com/suleka96/Email-Classification)\n",
    "\n",
    "***Dataset***:\n",
    "- [Enron Spam dataset](https://www2.aueb.gr/users/ion/data/enron-spam/)\n",
    "\n",
    "***Data Preprocessing***:  \n",
    "For the ML models:  \n",
    "- Utilize a **bag-of-words** approach:  \n",
    "> First, make a dictionary of the 3000 most common words in the corpus. Then iterate through the eamils and record the occurence frequency of each token in the email corresponding to the token in the dictionary.\n",
    "\n",
    "For the DL model (i.e. the Recurrent Neural Network):\n",
    "- Utilize a slightly different **bag-of-words** approach:  \n",
    "> First, create a dictionary of all the words in the corpus and index them starting from 1. Then iterate through the emails, and map each word to the corresponding index in the dictionary (this ensures the sequence of words is retained). Finally, to ensure all the emails have the same length, pad all the emails to the length of the longest email by adding 0's to the beginning of each sequence.\n",
    "\n",
    "***Model Training Techniques & Evaluation***:\n",
    "\n",
    "| ML Model                          | Accuracy | F1 Score| Recall|Precision     \n",
    "| :-------------------------------: | :-------:| :-----: | :----:| :------:\n",
    "| **Logistic Regression**           | 0.973    | 0.969   | 0.972 | 0.966\n",
    "| **Random Forest Classifier**      | 0.971    | 0.966   | 0.969 | 0.964\n",
    "| **Support Vector Classification** | 0.958    | 0.952   | 0.962 | 0.943\n",
    "\n",
    "\n",
    "> Notes:\n",
    "  - All ML models included manual hyperparameter tuning\n",
    "\n",
    "| DL Model                             | Accuracy  | F1 Score| Recall|Precision\n",
    "| :----------------------------------: | :-------: | :-----: | :----:| :------:\n",
    "| **Recurrent Neural Network (LSTM)**  | 0.981     | 0.980   | 0.980 | 0.981\n",
    "> Notes:\n",
    "  - Cost function: softmax cross entropy with logits\n",
    "  - Optimization function: Adam optimizer\n",
    "  - Activation function: sigmoid\n",
    "\n",
    "  ***Conclusion***:  \n",
    "  Logistic Regression outperformed all of the ML Models, but the **LSTM model** outperformed the logistic regression algorithm because of its ability to model long term dependencies."
   ]
  },
  {
   "cell_type": "markdown",
   "metadata": {
    "id": "C1pH9g7y50EI"
   },
   "source": [
    "# **Reproduction of Available Solutions**"
   ]
  },
  {
   "cell_type": "code",
   "execution_count": 1,
   "metadata": {
    "colab": {
     "base_uri": "https://localhost:8080/"
    },
    "id": "leggU7UfSo33",
    "outputId": "f0602ca2-5949-44ae-d92b-0443f825ddb4"
   },
   "outputs": [
    {
     "name": "stdout",
     "output_type": "stream",
     "text": [
      "Drive already mounted at /content/drive; to attempt to forcibly remount, call drive.mount(\"/content/drive\", force_remount=True).\n"
     ]
    }
   ],
   "source": [
    "from google.colab import drive\n",
    "drive.mount('/content/drive')"
   ]
  },
  {
   "cell_type": "code",
   "execution_count": 2,
   "metadata": {
    "id": "JkS-f2RkSBwC"
   },
   "outputs": [],
   "source": [
    "import pandas as pd\n",
    "import numpy as np\n",
    "from sklearn.model_selection import train_test_split\n",
    "from sklearn.metrics import classification_report, confusion_matrix, ConfusionMatrixDisplay"
   ]
  },
  {
   "cell_type": "code",
   "execution_count": 3,
   "metadata": {
    "id": "6TCBHK4OStJs"
   },
   "outputs": [],
   "source": [
    "# Load clean data into a pandas dataframe\n",
    "DATA_PATH = \"/content/drive/My Drive/UCSD Machine Learning Engineering Bootcamp/Capstone Project/\"\n",
    "df = pd.read_csv(DATA_PATH + 'CleanData.csv')"
   ]
  },
  {
   "cell_type": "markdown",
   "metadata": {
    "id": "SERlwOXUOlgS"
   },
   "source": [
    "### **Reproduction of SpamAssassin dataset Solution:**\n",
    "(TF-IDF for the preprocessing, and a Random Forest model for the training)\n",
    "\n",
    "****NOTE**: the article did not have a link to the code, so I had to code it myself"
   ]
  },
  {
   "cell_type": "code",
   "execution_count": 3,
   "metadata": {
    "id": "-oohnoj_aCdE"
   },
   "outputs": [],
   "source": [
    "df1 = df"
   ]
  },
  {
   "cell_type": "markdown",
   "metadata": {
    "id": "t_7L2TfZibLi"
   },
   "source": [
    "#### Step 1: TF-IDF"
   ]
  },
  {
   "cell_type": "code",
   "execution_count": 4,
   "metadata": {
    "id": "5bqWw0FuPv4-"
   },
   "outputs": [],
   "source": [
    "# TF-IDF\n",
    "from sklearn.feature_extraction.text import TfidfVectorizer\n",
    "\n",
    "# initialize the tfidf vectorizer\n",
    "tfidf_vec = TfidfVectorizer(max_features=10000)\n",
    "# convert Clean_Text to numbers with TfidfVectorizer\n",
    "tfidf = tfidf_vec.fit_transform(df1['Clean_Text'])"
   ]
  },
  {
   "cell_type": "code",
   "execution_count": 5,
   "metadata": {
    "colab": {
     "base_uri": "https://localhost:8080/"
    },
    "id": "7yRL27NDUZU_",
    "outputId": "a955406b-3b69-4e16-a0b3-433d6adfed26"
   },
   "outputs": [
    {
     "data": {
      "text/plain": [
       "(39763, 10000)"
      ]
     },
     "execution_count": 5,
     "metadata": {},
     "output_type": "execute_result"
    }
   ],
   "source": [
    "# convert the tfidf data features to array\n",
    "tfidf = tfidf.toarray()\n",
    "# show shape of the feature vector\n",
    "tfidf.shape"
   ]
  },
  {
   "cell_type": "markdown",
   "metadata": {
    "id": "aDYJ_nh6if9y"
   },
   "source": [
    "#### Step 2: Preliminary Random Forest model"
   ]
  },
  {
   "cell_type": "code",
   "execution_count": 6,
   "metadata": {
    "id": "Ut2M7nNMcTNm"
   },
   "outputs": [],
   "source": [
    "# Split data into training and testing set\n",
    "X_idf = tfidf\n",
    "y = df1.Label\n",
    "X_train, X_test, y_train, y_test = train_test_split(X_idf, y, test_size=0.3, shuffle=True)"
   ]
  },
  {
   "cell_type": "code",
   "execution_count": 7,
   "metadata": {
    "colab": {
     "base_uri": "https://localhost:8080/",
     "height": 610
    },
    "id": "mqJAjL5Xt8V1",
    "outputId": "21c6b7b5-8abe-4d8a-c85d-141dc9b8c616"
   },
   "outputs": [
    {
     "name": "stdout",
     "output_type": "stream",
     "text": [
      "              precision    recall  f1-score   support\n",
      "\n",
      "         0.0       0.99      0.98      0.98      6245\n",
      "         1.0       0.97      0.99      0.98      5684\n",
      "\n",
      "    accuracy                           0.98     11929\n",
      "   macro avg       0.98      0.98      0.98     11929\n",
      "weighted avg       0.98      0.98      0.98     11929\n",
      "\n"
     ]
    },
    {
     "data": {
      "image/png": "[encoded data removed]",
      "text/plain": [
       "<Figure size 640x480 with 2 Axes>"
      ]
     },
     "metadata": {},
     "output_type": "display_data"
    }
   ],
   "source": [
    "# Random Forest: initial fitting\n",
    "from sklearn.ensemble import RandomForestClassifier\n",
    "\n",
    "# Create a random forest classifier\n",
    "rf_model = RandomForestClassifier()\n",
    "\n",
    "# Fit the random forest classifier to the data\n",
    "rf_model.fit(X_train, y_train)\n",
    "\n",
    "# Generate Predictions\n",
    "y_pred = rf_model.predict(X_test)\n",
    "\n",
    "# Classification Report\n",
    "print(classification_report(y_test, y_pred))\n",
    "\n",
    "# Create the confusion matrix\n",
    "cm = confusion_matrix(y_test, y_pred)\n",
    "\n",
    "ConfusionMatrixDisplay(confusion_matrix=cm).plot();"
   ]
  },
  {
   "cell_type": "code",
   "execution_count": 8,
   "metadata": {
    "colab": {
     "base_uri": "https://localhost:8080/"
    },
    "id": "YRUxb3KICF9h",
    "outputId": "17e5ecc3-fbae-4d41-9577-90a8e1e72ed8"
   },
   "outputs": [
    {
     "data": {
      "text/plain": [
       "{'bootstrap': True,\n",
       " 'ccp_alpha': 0.0,\n",
       " 'class_weight': None,\n",
       " 'criterion': 'gini',\n",
       " 'max_depth': None,\n",
       " 'max_features': 'sqrt',\n",
       " 'max_leaf_nodes': None,\n",
       " 'max_samples': None,\n",
       " 'min_impurity_decrease': 0.0,\n",
       " 'min_samples_leaf': 1,\n",
       " 'min_samples_split': 2,\n",
       " 'min_weight_fraction_leaf': 0.0,\n",
       " 'n_estimators': 100,\n",
       " 'n_jobs': None,\n",
       " 'oob_score': False,\n",
       " 'random_state': None,\n",
       " 'verbose': 0,\n",
       " 'warm_start': False}"
      ]
     },
     "execution_count": 8,
     "metadata": {},
     "output_type": "execute_result"
    }
   ],
   "source": [
    "# Look at parameters used by our current random forest\n",
    "rf_model.get_params()"
   ]
  },
  {
   "cell_type": "markdown",
   "metadata": {
    "id": "6LBfkyPNCQIP"
   },
   "source": [
    "#### Step 3: Random Forest Hyperparameter Tuning"
   ]
  },
  {
   "cell_type": "code",
   "execution_count": 21,
   "metadata": {
    "colab": {
     "base_uri": "https://localhost:8080/"
    },
    "id": "o3Nh5aPVe40T",
    "outputId": "5b56c84b-e1f8-4a5f-8851-8da0ae1a5195"
   },
   "outputs": [
    {
     "name": "stdout",
     "output_type": "stream",
     "text": [
      "{'n_estimators': [200, 400, 600, 800, 1000, 1200, 1400, 1600, 1800, 2000], 'max_features': ['auto', 'sqrt'], 'max_depth': [10, 20, 30, 40, 50, 60, 70, 80, 90, 100, 110, None], 'min_samples_split': [2, 5, 10], 'min_samples_leaf': [1, 2, 4], 'bootstrap': [True, False]}\n"
     ]
    }
   ],
   "source": [
    "# Random Forest: hyperparameter tuning\n",
    "from sklearn.model_selection import RandomizedSearchCV\n",
    "\n",
    "# Number of trees in random forest\n",
    "n_estimators = [int(x) for x in np.linspace(start = 200, stop = 2000, num = 10)]\n",
    "# Number of features to consider at every split\n",
    "max_features = ['auto', 'sqrt']\n",
    "# Maximum number of levels in tree\n",
    "max_depth = [int(x) for x in np.linspace(10, 110, num = 11)]\n",
    "max_depth.append(None)\n",
    "# Minimum number of samples required to split a node\n",
    "min_samples_split = [2, 5, 10]\n",
    "# Minimum number of samples required at each leaf node\n",
    "min_samples_leaf = [1, 2, 4]\n",
    "# Method of selecting samples for training each tree\n",
    "bootstrap = [True, False]\n",
    "\n",
    "# Create the random grid\n",
    "random_grid = {'n_estimators': n_estimators,\n",
    "               'max_features': max_features,\n",
    "               'max_depth': max_depth,\n",
    "               'min_samples_split': min_samples_split,\n",
    "               'min_samples_leaf': min_samples_leaf,\n",
    "               'bootstrap': bootstrap}\n",
    "print(random_grid)"
   ]
  },
  {
   "cell_type": "code",
   "execution_count": null,
   "metadata": {
    "colab": {
     "base_uri": "https://localhost:8080/"
    },
    "id": "iY4mWFV9Cr_m",
    "outputId": "cd6321fd-b520-45f5-892e-3912b0bf01b0"
   },
   "outputs": [
    {
     "metadata": {
      "tags": null
     },
     "name": "stdout",
     "output_type": "stream",
     "text": [
      "Fitting 3 folds for each of 20 candidates, totalling 60 fits\n",
      "[CV 1/3] END bootstrap=False, max_depth=80, max_features=sqrt, min_samples_leaf=2, min_samples_split=2, n_estimators=2000;, score=0.974 total time=49.6min\n",
      "[CV 2/3] END bootstrap=False, max_depth=80, max_features=sqrt, min_samples_leaf=2, min_samples_split=2, n_estimators=2000;, score=0.975 total time=49.8min\n",
      "[CV 3/3] END bootstrap=False, max_depth=80, max_features=sqrt, min_samples_leaf=2, min_samples_split=2, n_estimators=2000;, score=0.974 total time=49.1min\n"
     ]
    },
    {
     "metadata": {
      "tags": null
     },
     "name": "stderr",
     "output_type": "stream",
     "text": [
      "/usr/local/lib/python3.10/dist-packages/sklearn/ensemble/_forest.py:424: FutureWarning: `max_features='auto'` has been deprecated in 1.1 and will be removed in 1.3. To keep the past behaviour, explicitly set `max_features='sqrt'` or remove this parameter as it is also the default value for RandomForestClassifiers and ExtraTreesClassifiers.\n",
      "  warn(\n"
     ]
    },
    {
     "metadata": {
      "tags": null
     },
     "name": "stdout",
     "output_type": "stream",
     "text": [
      "[CV 1/3] END bootstrap=False, max_depth=60, max_features=auto, min_samples_leaf=4, min_samples_split=2, n_estimators=600;, score=0.968 total time=12.9min\n"
     ]
    },
    {
     "metadata": {
      "tags": null
     },
     "name": "stderr",
     "output_type": "stream",
     "text": [
      "/usr/local/lib/python3.10/dist-packages/sklearn/ensemble/_forest.py:424: FutureWarning: `max_features='auto'` has been deprecated in 1.1 and will be removed in 1.3. To keep the past behaviour, explicitly set `max_features='sqrt'` or remove this parameter as it is also the default value for RandomForestClassifiers and ExtraTreesClassifiers.\n",
      "  warn(\n"
     ]
    },
    {
     "metadata": {
      "tags": null
     },
     "name": "stdout",
     "output_type": "stream",
     "text": [
      "[CV 2/3] END bootstrap=False, max_depth=60, max_features=auto, min_samples_leaf=4, min_samples_split=2, n_estimators=600;, score=0.970 total time=12.9min\n"
     ]
    },
    {
     "metadata": {
      "tags": null
     },
     "name": "stderr",
     "output_type": "stream",
     "text": [
      "/usr/local/lib/python3.10/dist-packages/sklearn/ensemble/_forest.py:424: FutureWarning: `max_features='auto'` has been deprecated in 1.1 and will be removed in 1.3. To keep the past behaviour, explicitly set `max_features='sqrt'` or remove this parameter as it is also the default value for RandomForestClassifiers and ExtraTreesClassifiers.\n",
      "  warn(\n"
     ]
    },
    {
     "metadata": {
      "tags": null
     },
     "name": "stdout",
     "output_type": "stream",
     "text": [
      "[CV 3/3] END bootstrap=False, max_depth=60, max_features=auto, min_samples_leaf=4, min_samples_split=2, n_estimators=600;, score=0.970 total time=12.9min\n",
      "[CV 1/3] END bootstrap=False, max_depth=110, max_features=sqrt, min_samples_leaf=1, min_samples_split=2, n_estimators=1800;, score=0.977 total time=48.9min\n",
      "[CV 2/3] END bootstrap=False, max_depth=110, max_features=sqrt, min_samples_leaf=1, min_samples_split=2, n_estimators=1800;, score=0.978 total time=49.2min\n",
      "[CV 3/3] END bootstrap=False, max_depth=110, max_features=sqrt, min_samples_leaf=1, min_samples_split=2, n_estimators=1800;, score=0.977 total time=48.6min\n",
      "[CV 1/3] END bootstrap=False, max_depth=110, max_features=sqrt, min_samples_leaf=2, min_samples_split=2, n_estimators=2000;, score=0.976 total time=52.9min\n",
      "[CV 2/3] END bootstrap=False, max_depth=110, max_features=sqrt, min_samples_leaf=2, min_samples_split=2, n_estimators=2000;, score=0.976 total time=53.1min\n",
      "[CV 3/3] END bootstrap=False, max_depth=110, max_features=sqrt, min_samples_leaf=2, min_samples_split=2, n_estimators=2000;, score=0.975 total time=52.9min\n",
      "[CV 1/3] END bootstrap=False, max_depth=90, max_features=sqrt, min_samples_leaf=1, min_samples_split=10, n_estimators=1400;, score=0.977 total time=36.3min\n",
      "[CV 2/3] END bootstrap=False, max_depth=90, max_features=sqrt, min_samples_leaf=1, min_samples_split=10, n_estimators=1400;, score=0.977 total time=36.2min\n",
      "[CV 3/3] END bootstrap=False, max_depth=90, max_features=sqrt, min_samples_leaf=1, min_samples_split=10, n_estimators=1400;, score=0.976 total time=36.4min\n"
     ]
    },
    {
     "metadata": {
      "tags": null
     },
     "name": "stderr",
     "output_type": "stream",
     "text": [
      "/usr/local/lib/python3.10/dist-packages/sklearn/ensemble/_forest.py:424: FutureWarning: `max_features='auto'` has been deprecated in 1.1 and will be removed in 1.3. To keep the past behaviour, explicitly set `max_features='sqrt'` or remove this parameter as it is also the default value for RandomForestClassifiers and ExtraTreesClassifiers.\n",
      "  warn(\n"
     ]
    },
    {
     "metadata": {
      "tags": null
     },
     "name": "stdout",
     "output_type": "stream",
     "text": [
      "[CV 1/3] END bootstrap=True, max_depth=10, max_features=auto, min_samples_leaf=4, min_samples_split=2, n_estimators=400;, score=0.940 total time= 1.7min\n"
     ]
    },
    {
     "metadata": {
      "tags": null
     },
     "name": "stderr",
     "output_type": "stream",
     "text": [
      "/usr/local/lib/python3.10/dist-packages/sklearn/ensemble/_forest.py:424: FutureWarning: `max_features='auto'` has been deprecated in 1.1 and will be removed in 1.3. To keep the past behaviour, explicitly set `max_features='sqrt'` or remove this parameter as it is also the default value for RandomForestClassifiers and ExtraTreesClassifiers.\n",
      "  warn(\n"
     ]
    },
    {
     "metadata": {
      "tags": null
     },
     "name": "stdout",
     "output_type": "stream",
     "text": [
      "[CV 2/3] END bootstrap=True, max_depth=10, max_features=auto, min_samples_leaf=4, min_samples_split=2, n_estimators=400;, score=0.944 total time= 1.7min\n"
     ]
    },
    {
     "metadata": {
      "tags": null
     },
     "name": "stderr",
     "output_type": "stream",
     "text": [
      "/usr/local/lib/python3.10/dist-packages/sklearn/ensemble/_forest.py:424: FutureWarning: `max_features='auto'` has been deprecated in 1.1 and will be removed in 1.3. To keep the past behaviour, explicitly set `max_features='sqrt'` or remove this parameter as it is also the default value for RandomForestClassifiers and ExtraTreesClassifiers.\n",
      "  warn(\n"
     ]
    },
    {
     "metadata": {
      "tags": null
     },
     "name": "stdout",
     "output_type": "stream",
     "text": [
      "[CV 3/3] END bootstrap=True, max_depth=10, max_features=auto, min_samples_leaf=4, min_samples_split=2, n_estimators=400;, score=0.950 total time= 1.7min\n",
      "[CV 1/3] END bootstrap=False, max_depth=10, max_features=sqrt, min_samples_leaf=2, min_samples_split=5, n_estimators=800;, score=0.943 total time= 4.7min\n",
      "[CV 2/3] END bootstrap=False, max_depth=10, max_features=sqrt, min_samples_leaf=2, min_samples_split=5, n_estimators=800;, score=0.942 total time= 4.7min\n",
      "[CV 3/3] END bootstrap=False, max_depth=10, max_features=sqrt, min_samples_leaf=2, min_samples_split=5, n_estimators=800;, score=0.951 total time= 4.7min\n"
     ]
    },
    {
     "metadata": {
      "tags": null
     },
     "name": "stderr",
     "output_type": "stream",
     "text": [
      "/usr/local/lib/python3.10/dist-packages/sklearn/ensemble/_forest.py:424: FutureWarning: `max_features='auto'` has been deprecated in 1.1 and will be removed in 1.3. To keep the past behaviour, explicitly set `max_features='sqrt'` or remove this parameter as it is also the default value for RandomForestClassifiers and ExtraTreesClassifiers.\n",
      "  warn(\n"
     ]
    },
    {
     "metadata": {
      "tags": null
     },
     "name": "stdout",
     "output_type": "stream",
     "text": [
      "[CV 1/3] END bootstrap=True, max_depth=None, max_features=auto, min_samples_leaf=2, min_samples_split=5, n_estimators=1000;, score=0.976 total time=15.0min\n"
     ]
    },
    {
     "metadata": {
      "tags": null
     },
     "name": "stderr",
     "output_type": "stream",
     "text": [
      "/usr/local/lib/python3.10/dist-packages/sklearn/ensemble/_forest.py:424: FutureWarning: `max_features='auto'` has been deprecated in 1.1 and will be removed in 1.3. To keep the past behaviour, explicitly set `max_features='sqrt'` or remove this parameter as it is also the default value for RandomForestClassifiers and ExtraTreesClassifiers.\n",
      "  warn(\n"
     ]
    },
    {
     "metadata": {
      "tags": null
     },
     "name": "stdout",
     "output_type": "stream",
     "text": [
      "[CV 2/3] END bootstrap=True, max_depth=None, max_features=auto, min_samples_leaf=2, min_samples_split=5, n_estimators=1000;, score=0.977 total time=15.2min\n"
     ]
    },
    {
     "metadata": {
      "tags": null
     },
     "name": "stderr",
     "output_type": "stream",
     "text": [
      "/usr/local/lib/python3.10/dist-packages/sklearn/ensemble/_forest.py:424: FutureWarning: `max_features='auto'` has been deprecated in 1.1 and will be removed in 1.3. To keep the past behaviour, explicitly set `max_features='sqrt'` or remove this parameter as it is also the default value for RandomForestClassifiers and ExtraTreesClassifiers.\n",
      "  warn(\n"
     ]
    },
    {
     "metadata": {
      "tags": null
     },
     "name": "stdout",
     "output_type": "stream",
     "text": [
      "[CV 3/3] END bootstrap=True, max_depth=None, max_features=auto, min_samples_leaf=2, min_samples_split=5, n_estimators=1000;, score=0.975 total time=15.0min\n"
     ]
    },
    {
     "metadata": {
      "tags": null
     },
     "name": "stderr",
     "output_type": "stream",
     "text": [
      "/usr/local/lib/python3.10/dist-packages/sklearn/ensemble/_forest.py:424: FutureWarning: `max_features='auto'` has been deprecated in 1.1 and will be removed in 1.3. To keep the past behaviour, explicitly set `max_features='sqrt'` or remove this parameter as it is also the default value for RandomForestClassifiers and ExtraTreesClassifiers.\n",
      "  warn(\n"
     ]
    },
    {
     "metadata": {
      "tags": null
     },
     "name": "stdout",
     "output_type": "stream",
     "text": [
      "[CV 1/3] END bootstrap=False, max_depth=None, max_features=auto, min_samples_leaf=4, min_samples_split=10, n_estimators=1200;, score=0.975 total time=28.3min\n"
     ]
    },
    {
     "metadata": {
      "tags": null
     },
     "name": "stderr",
     "output_type": "stream",
     "text": [
      "/usr/local/lib/python3.10/dist-packages/sklearn/ensemble/_forest.py:424: FutureWarning: `max_features='auto'` has been deprecated in 1.1 and will be removed in 1.3. To keep the past behaviour, explicitly set `max_features='sqrt'` or remove this parameter as it is also the default value for RandomForestClassifiers and ExtraTreesClassifiers.\n",
      "  warn(\n"
     ]
    },
    {
     "metadata": {
      "tags": null
     },
     "name": "stdout",
     "output_type": "stream",
     "text": [
      "[CV 2/3] END bootstrap=False, max_depth=None, max_features=auto, min_samples_leaf=4, min_samples_split=10, n_estimators=1200;, score=0.977 total time=27.8min\n"
     ]
    },
    {
     "metadata": {
      "tags": null
     },
     "name": "stderr",
     "output_type": "stream",
     "text": [
      "/usr/local/lib/python3.10/dist-packages/sklearn/ensemble/_forest.py:424: FutureWarning: `max_features='auto'` has been deprecated in 1.1 and will be removed in 1.3. To keep the past behaviour, explicitly set `max_features='sqrt'` or remove this parameter as it is also the default value for RandomForestClassifiers and ExtraTreesClassifiers.\n",
      "  warn(\n"
     ]
    },
    {
     "metadata": {
      "tags": null
     },
     "name": "stdout",
     "output_type": "stream",
     "text": [
      "[CV 3/3] END bootstrap=False, max_depth=None, max_features=auto, min_samples_leaf=4, min_samples_split=10, n_estimators=1200;, score=0.974 total time=27.4min\n"
     ]
    },
    {
     "metadata": {
      "tags": null
     },
     "name": "stderr",
     "output_type": "stream",
     "text": [
      "/usr/local/lib/python3.10/dist-packages/sklearn/ensemble/_forest.py:424: FutureWarning: `max_features='auto'` has been deprecated in 1.1 and will be removed in 1.3. To keep the past behaviour, explicitly set `max_features='sqrt'` or remove this parameter as it is also the default value for RandomForestClassifiers and ExtraTreesClassifiers.\n",
      "  warn(\n"
     ]
    },
    {
     "metadata": {
      "tags": null
     },
     "name": "stdout",
     "output_type": "stream",
     "text": [
      "[CV 1/3] END bootstrap=False, max_depth=90, max_features=auto, min_samples_leaf=4, min_samples_split=10, n_estimators=1000;, score=0.973 total time=20.6min\n"
     ]
    },
    {
     "metadata": {
      "tags": null
     },
     "name": "stderr",
     "output_type": "stream",
     "text": [
      "/usr/local/lib/python3.10/dist-packages/sklearn/ensemble/_forest.py:424: FutureWarning: `max_features='auto'` has been deprecated in 1.1 and will be removed in 1.3. To keep the past behaviour, explicitly set `max_features='sqrt'` or remove this parameter as it is also the default value for RandomForestClassifiers and ExtraTreesClassifiers.\n",
      "  warn(\n"
     ]
    },
    {
     "metadata": {
      "tags": null
     },
     "name": "stdout",
     "output_type": "stream",
     "text": [
      "[CV 2/3] END bootstrap=False, max_depth=90, max_features=auto, min_samples_leaf=4, min_samples_split=10, n_estimators=1000;, score=0.974 total time=20.5min\n"
     ]
    },
    {
     "metadata": {
      "tags": null
     },
     "name": "stderr",
     "output_type": "stream",
     "text": [
      "/usr/local/lib/python3.10/dist-packages/sklearn/ensemble/_forest.py:424: FutureWarning: `max_features='auto'` has been deprecated in 1.1 and will be removed in 1.3. To keep the past behaviour, explicitly set `max_features='sqrt'` or remove this parameter as it is also the default value for RandomForestClassifiers and ExtraTreesClassifiers.\n",
      "  warn(\n"
     ]
    },
    {
     "metadata": {
      "tags": null
     },
     "name": "stdout",
     "output_type": "stream",
     "text": [
      "[CV 3/3] END bootstrap=False, max_depth=90, max_features=auto, min_samples_leaf=4, min_samples_split=10, n_estimators=1000;, score=0.972 total time=20.7min\n",
      "[CV 1/3] END bootstrap=True, max_depth=30, max_features=sqrt, min_samples_leaf=1, min_samples_split=10, n_estimators=800;, score=0.961 total time= 6.7min\n",
      "[CV 2/3] END bootstrap=True, max_depth=30, max_features=sqrt, min_samples_leaf=1, min_samples_split=10, n_estimators=800;, score=0.961 total time= 6.5min\n",
      "[CV 3/3] END bootstrap=True, max_depth=30, max_features=sqrt, min_samples_leaf=1, min_samples_split=10, n_estimators=800;, score=0.963 total time= 6.5min\n"
     ]
    },
    {
     "metadata": {
      "tags": null
     },
     "name": "stderr",
     "output_type": "stream",
     "text": [
      "/usr/local/lib/python3.10/dist-packages/sklearn/ensemble/_forest.py:424: FutureWarning: `max_features='auto'` has been deprecated in 1.1 and will be removed in 1.3. To keep the past behaviour, explicitly set `max_features='sqrt'` or remove this parameter as it is also the default value for RandomForestClassifiers and ExtraTreesClassifiers.\n",
      "  warn(\n"
     ]
    },
    {
     "metadata": {
      "tags": null
     },
     "name": "stdout",
     "output_type": "stream",
     "text": [
      "[CV 1/3] END bootstrap=False, max_depth=10, max_features=auto, min_samples_leaf=4, min_samples_split=10, n_estimators=1600;, score=0.945 total time= 9.3min\n"
     ]
    },
    {
     "metadata": {
      "tags": null
     },
     "name": "stderr",
     "output_type": "stream",
     "text": [
      "/usr/local/lib/python3.10/dist-packages/sklearn/ensemble/_forest.py:424: FutureWarning: `max_features='auto'` has been deprecated in 1.1 and will be removed in 1.3. To keep the past behaviour, explicitly set `max_features='sqrt'` or remove this parameter as it is also the default value for RandomForestClassifiers and ExtraTreesClassifiers.\n",
      "  warn(\n"
     ]
    },
    {
     "metadata": {
      "tags": null
     },
     "name": "stdout",
     "output_type": "stream",
     "text": [
      "[CV 2/3] END bootstrap=False, max_depth=10, max_features=auto, min_samples_leaf=4, min_samples_split=10, n_estimators=1600;, score=0.945 total time= 9.2min\n"
     ]
    },
    {
     "metadata": {
      "tags": null
     },
     "name": "stderr",
     "output_type": "stream",
     "text": [
      "/usr/local/lib/python3.10/dist-packages/sklearn/ensemble/_forest.py:424: FutureWarning: `max_features='auto'` has been deprecated in 1.1 and will be removed in 1.3. To keep the past behaviour, explicitly set `max_features='sqrt'` or remove this parameter as it is also the default value for RandomForestClassifiers and ExtraTreesClassifiers.\n",
      "  warn(\n"
     ]
    },
    {
     "metadata": {
      "tags": null
     },
     "name": "stdout",
     "output_type": "stream",
     "text": [
      "[CV 3/3] END bootstrap=False, max_depth=10, max_features=auto, min_samples_leaf=4, min_samples_split=10, n_estimators=1600;, score=0.950 total time= 9.2min\n"
     ]
    },
    {
     "metadata": {
      "tags": null
     },
     "name": "stderr",
     "output_type": "stream",
     "text": [
      "/usr/local/lib/python3.10/dist-packages/sklearn/ensemble/_forest.py:424: FutureWarning: `max_features='auto'` has been deprecated in 1.1 and will be removed in 1.3. To keep the past behaviour, explicitly set `max_features='sqrt'` or remove this parameter as it is also the default value for RandomForestClassifiers and ExtraTreesClassifiers.\n",
      "  warn(\n"
     ]
    },
    {
     "metadata": {
      "tags": null
     },
     "name": "stdout",
     "output_type": "stream",
     "text": [
      "[CV 1/3] END bootstrap=False, max_depth=100, max_features=auto, min_samples_leaf=4, min_samples_split=5, n_estimators=1200;, score=0.973 total time=25.3min\n"
     ]
    },
    {
     "metadata": {
      "tags": null
     },
     "name": "stderr",
     "output_type": "stream",
     "text": [
      "/usr/local/lib/python3.10/dist-packages/sklearn/ensemble/_forest.py:424: FutureWarning: `max_features='auto'` has been deprecated in 1.1 and will be removed in 1.3. To keep the past behaviour, explicitly set `max_features='sqrt'` or remove this parameter as it is also the default value for RandomForestClassifiers and ExtraTreesClassifiers.\n",
      "  warn(\n"
     ]
    },
    {
     "metadata": {
      "tags": null
     },
     "name": "stdout",
     "output_type": "stream",
     "text": [
      "[CV 2/3] END bootstrap=False, max_depth=100, max_features=auto, min_samples_leaf=4, min_samples_split=5, n_estimators=1200;, score=0.975 total time=24.9min\n"
     ]
    },
    {
     "metadata": {
      "tags": null
     },
     "name": "stderr",
     "output_type": "stream",
     "text": [
      "/usr/local/lib/python3.10/dist-packages/sklearn/ensemble/_forest.py:424: FutureWarning: `max_features='auto'` has been deprecated in 1.1 and will be removed in 1.3. To keep the past behaviour, explicitly set `max_features='sqrt'` or remove this parameter as it is also the default value for RandomForestClassifiers and ExtraTreesClassifiers.\n",
      "  warn(\n"
     ]
    },
    {
     "metadata": {
      "tags": null
     },
     "name": "stdout",
     "output_type": "stream",
     "text": [
      "[CV 3/3] END bootstrap=False, max_depth=100, max_features=auto, min_samples_leaf=4, min_samples_split=5, n_estimators=1200;, score=0.973 total time=24.9min\n",
      "[CV 1/3] END bootstrap=False, max_depth=30, max_features=sqrt, min_samples_leaf=1, min_samples_split=10, n_estimators=1000;, score=0.963 total time=13.9min\n",
      "[CV 2/3] END bootstrap=False, max_depth=30, max_features=sqrt, min_samples_leaf=1, min_samples_split=10, n_estimators=1000;, score=0.961 total time=13.7min\n",
      "[CV 3/3] END bootstrap=False, max_depth=30, max_features=sqrt, min_samples_leaf=1, min_samples_split=10, n_estimators=1000;, score=0.965 total time=13.5min\n"
     ]
    },
    {
     "metadata": {
      "tags": null
     },
     "name": "stderr",
     "output_type": "stream",
     "text": [
      "/usr/local/lib/python3.10/dist-packages/sklearn/ensemble/_forest.py:424: FutureWarning: `max_features='auto'` has been deprecated in 1.1 and will be removed in 1.3. To keep the past behaviour, explicitly set `max_features='sqrt'` or remove this parameter as it is also the default value for RandomForestClassifiers and ExtraTreesClassifiers.\n",
      "  warn(\n"
     ]
    },
    {
     "metadata": {
      "tags": null
     },
     "name": "stdout",
     "output_type": "stream",
     "text": [
      "[CV 1/3] END bootstrap=True, max_depth=60, max_features=auto, min_samples_leaf=4, min_samples_split=2, n_estimators=1200;, score=0.966 total time=12.6min\n"
     ]
    },
    {
     "metadata": {
      "tags": null
     },
     "name": "stderr",
     "output_type": "stream",
     "text": [
      "/usr/local/lib/python3.10/dist-packages/sklearn/ensemble/_forest.py:424: FutureWarning: `max_features='auto'` has been deprecated in 1.1 and will be removed in 1.3. To keep the past behaviour, explicitly set `max_features='sqrt'` or remove this parameter as it is also the default value for RandomForestClassifiers and ExtraTreesClassifiers.\n",
      "  warn(\n"
     ]
    },
    {
     "metadata": {
      "tags": null
     },
     "name": "stdout",
     "output_type": "stream",
     "text": [
      "[CV 2/3] END bootstrap=True, max_depth=60, max_features=auto, min_samples_leaf=4, min_samples_split=2, n_estimators=1200;, score=0.967 total time=12.7min\n"
     ]
    },
    {
     "metadata": {
      "tags": null
     },
     "name": "stderr",
     "output_type": "stream",
     "text": [
      "/usr/local/lib/python3.10/dist-packages/sklearn/ensemble/_forest.py:424: FutureWarning: `max_features='auto'` has been deprecated in 1.1 and will be removed in 1.3. To keep the past behaviour, explicitly set `max_features='sqrt'` or remove this parameter as it is also the default value for RandomForestClassifiers and ExtraTreesClassifiers.\n",
      "  warn(\n"
     ]
    },
    {
     "name": "stdout",
     "output_type": "stream",
     "text": [
      "[CV 3/3] END bootstrap=True, max_depth=60, max_features=auto, min_samples_leaf=4, min_samples_split=2, n_estimators=1200;, score=0.967 total time=12.8min\n"
     ]
    },
    {
     "name": "stderr",
     "output_type": "stream",
     "text": [
      "/usr/local/lib/python3.10/dist-packages/sklearn/ensemble/_forest.py:424: FutureWarning: `max_features='auto'` has been deprecated in 1.1 and will be removed in 1.3. To keep the past behaviour, explicitly set `max_features='sqrt'` or remove this parameter as it is also the default value for RandomForestClassifiers and ExtraTreesClassifiers.\n",
      "  warn(\n"
     ]
    },
    {
     "name": "stdout",
     "output_type": "stream",
     "text": [
      "[CV 1/3] END bootstrap=False, max_depth=None, max_features=auto, min_samples_leaf=4, min_samples_split=10, n_estimators=1000;, score=0.975 total time=22.9min\n"
     ]
    },
    {
     "name": "stderr",
     "output_type": "stream",
     "text": [
      "/usr/local/lib/python3.10/dist-packages/sklearn/ensemble/_forest.py:424: FutureWarning: `max_features='auto'` has been deprecated in 1.1 and will be removed in 1.3. To keep the past behaviour, explicitly set `max_features='sqrt'` or remove this parameter as it is also the default value for RandomForestClassifiers and ExtraTreesClassifiers.\n",
      "  warn(\n"
     ]
    }
   ],
   "source": [
    "# Use the random grid to search for best hyperparameters\n",
    "\n",
    "# Create a random forest classifier\n",
    "rf = RandomForestClassifier()\n",
    "\n",
    "# Use random search to find the best hyperparameters, using 3 fold cross validation\n",
    "# across 100 different combinations\n",
    "grid_search = RandomizedSearchCV(rf,\n",
    "                                 param_distributions = random_grid,\n",
    "                                 n_iter=20,\n",
    "                                 cv=3,\n",
    "                                 verbose=3)\n",
    "\n",
    "# Fit the random search object to the data\n",
    "grid_search.fit(X_train, y_train)"
   ]
  },
  {
   "cell_type": "markdown",
   "metadata": {
    "id": "aci1VRWR7Qxb"
   },
   "source": [
    "Unfortunately the above Randomized Grid Search did not complete after 24+ hours of runtime, and none of its random models acheived a higher score than the preliminary model (with default hyperparameters) in the previous section."
   ]
  },
  {
   "cell_type": "markdown",
   "metadata": {
    "id": "gxBbEVRb9AvU"
   },
   "source": [
    "#### Random Forest Results"
   ]
  },
  {
   "cell_type": "code",
   "execution_count": 9,
   "metadata": {
    "colab": {
     "base_uri": "https://localhost:8080/"
    },
    "id": "x87am0TCA7Is",
    "outputId": "9fc555f4-8898-4178-9384-b98907f8af39"
   },
   "outputs": [
    {
     "name": "stdout",
     "output_type": "stream",
     "text": [
      "Random Forest Results\n",
      "Test accuracy: 0.981\n",
      "F1 Score: 0.981\n",
      "Recall: 0.982\n",
      "Precision: 0.981\n"
     ]
    }
   ],
   "source": [
    "# Random Forest model metrics\n",
    "from sklearn.metrics import f1_score, recall_score, precision_score, accuracy_score\n",
    "\n",
    "accuracy = accuracy_score(y_test, y_pred)\n",
    "f1 = f1_score(y_test, y_pred, average='macro')\n",
    "recall = recall_score(y_test, y_pred, average='macro')\n",
    "precision = precision_score(y_test, y_pred, average='macro')\n",
    "\n",
    "print(\"Random Forest Results:\")\n",
    "print(\"Test accuracy: {:.3f}\".format(accuracy))\n",
    "print(\"F1 Score: {:.3f}\".format(f1))\n",
    "print(\"Recall: {:.3f}\".format(recall))\n",
    "print(\"Precision: {:.3f}\".format(precision))"
   ]
  },
  {
   "cell_type": "markdown",
   "metadata": {
    "id": "98lQzp2_A7dQ"
   },
   "source": [
    "My **Random Forest model acheived an accuracy, f1 score, and precision of 0.981, and a recall of 0.982**. This model's performance is roughly identical to the performance of the Random Forest model used in the article for the SpamAssassin dataset."
   ]
  },
  {
   "cell_type": "markdown",
   "metadata": {
    "id": "2oucUdmHOqgU"
   },
   "source": [
    "### Reproduction of Enron Spam dataset Solution:\n",
    "(Bag of words for the preprocessing, and a LSTM model for the training)\n",
    "\n",
    "****NOTE**: the article did have a [Github link](https://github.com/suleka96/Email-Classification/blob/master/Enron_LSTM.py) to the code, so I just copy and pasted it"
   ]
  },
  {
   "cell_type": "code",
   "execution_count": 3,
   "metadata": {},
   "outputs": [],
   "source": [
    "df = pd.read_csv('CleanData.csv')"
   ]
  },
  {
   "cell_type": "code",
   "execution_count": 4,
   "metadata": {
    "id": "Y-JGcR-T48mJ"
   },
   "outputs": [],
   "source": [
    "df2 = df"
   ]
  },
  {
   "cell_type": "code",
   "execution_count": 1,
   "metadata": {},
   "outputs": [
    {
     "name": "stdout",
     "output_type": "stream",
     "text": [
      "Requirement already satisfied: pip in /Users/anastasiaarsky/anaconda3/lib/python3.10/site-packages (23.1)\n",
      "Collecting pip\n",
      "  Downloading pip-23.2.1-py3-none-any.whl (2.1 MB)\n",
      "\u001b[2K     \u001b[90m━━━━━━━━━━━━━━━━━━━━━━━━━━━━━━━━━━━━━━━━\u001b[0m \u001b[32m2.1/2.1 MB\u001b[0m \u001b[31m18.8 MB/s\u001b[0m eta \u001b[36m0:00:00\u001b[0ma \u001b[36m0:00:01\u001b[0m\n",
      "\u001b[?25hInstalling collected packages: pip\n",
      "  Attempting uninstall: pip\n",
      "    Found existing installation: pip 23.1\n",
      "    Uninstalling pip-23.1:\n",
      "      Successfully uninstalled pip-23.1\n",
      "Successfully installed pip-23.2.1\n",
      "Note: you may need to restart the kernel to use updated packages.\n"
     ]
    }
   ],
   "source": [
    "pip install --upgrade pip"
   ]
  },
  {
   "cell_type": "code",
   "execution_count": 2,
   "metadata": {},
   "outputs": [
    {
     "name": "stdout",
     "output_type": "stream",
     "text": [
      "Requirement already satisfied: tensorflow in /Users/anastasiaarsky/anaconda3/lib/python3.10/site-packages (2.13.0)\n",
      "Requirement already satisfied: absl-py>=1.0.0 in /Users/anastasiaarsky/anaconda3/lib/python3.10/site-packages (from tensorflow) (1.4.0)\n",
      "Requirement already satisfied: astunparse>=1.6.0 in /Users/anastasiaarsky/anaconda3/lib/python3.10/site-packages (from tensorflow) (1.6.3)\n",
      "Requirement already satisfied: flatbuffers>=23.1.21 in /Users/anastasiaarsky/anaconda3/lib/python3.10/site-packages (from tensorflow) (23.5.26)\n",
      "Requirement already satisfied: gast<=0.4.0,>=0.2.1 in /Users/anastasiaarsky/anaconda3/lib/python3.10/site-packages (from tensorflow) (0.4.0)\n",
      "Requirement already satisfied: google-pasta>=0.1.1 in /Users/anastasiaarsky/anaconda3/lib/python3.10/site-packages (from tensorflow) (0.2.0)\n",
      "Requirement already satisfied: h5py>=2.9.0 in /Users/anastasiaarsky/anaconda3/lib/python3.10/site-packages (from tensorflow) (3.7.0)\n",
      "Requirement already satisfied: libclang>=13.0.0 in /Users/anastasiaarsky/anaconda3/lib/python3.10/site-packages (from tensorflow) (16.0.6)\n",
      "Requirement already satisfied: numpy<=1.24.3,>=1.22 in /Users/anastasiaarsky/anaconda3/lib/python3.10/site-packages (from tensorflow) (1.23.5)\n",
      "Requirement already satisfied: opt-einsum>=2.3.2 in /Users/anastasiaarsky/anaconda3/lib/python3.10/site-packages (from tensorflow) (3.3.0)\n",
      "Requirement already satisfied: packaging in /Users/anastasiaarsky/anaconda3/lib/python3.10/site-packages (from tensorflow) (22.0)\n",
      "Requirement already satisfied: protobuf!=4.21.0,!=4.21.1,!=4.21.2,!=4.21.3,!=4.21.4,!=4.21.5,<5.0.0dev,>=3.20.3 in /Users/anastasiaarsky/anaconda3/lib/python3.10/site-packages (from tensorflow) (4.23.4)\n",
      "Requirement already satisfied: setuptools in /Users/anastasiaarsky/anaconda3/lib/python3.10/site-packages (from tensorflow) (67.6.1)\n",
      "Requirement already satisfied: six>=1.12.0 in /Users/anastasiaarsky/anaconda3/lib/python3.10/site-packages (from tensorflow) (1.16.0)\n",
      "Requirement already satisfied: termcolor>=1.1.0 in /Users/anastasiaarsky/anaconda3/lib/python3.10/site-packages (from tensorflow) (2.3.0)\n",
      "Requirement already satisfied: typing-extensions<4.6.0,>=3.6.6 in /Users/anastasiaarsky/anaconda3/lib/python3.10/site-packages (from tensorflow) (4.4.0)\n",
      "Requirement already satisfied: wrapt>=1.11.0 in /Users/anastasiaarsky/anaconda3/lib/python3.10/site-packages (from tensorflow) (1.14.1)\n",
      "Requirement already satisfied: grpcio<2.0,>=1.24.3 in /Users/anastasiaarsky/anaconda3/lib/python3.10/site-packages (from tensorflow) (1.56.2)\n",
      "Requirement already satisfied: tensorboard<2.14,>=2.13 in /Users/anastasiaarsky/anaconda3/lib/python3.10/site-packages (from tensorflow) (2.13.0)\n",
      "Requirement already satisfied: tensorflow-estimator<2.14,>=2.13.0 in /Users/anastasiaarsky/anaconda3/lib/python3.10/site-packages (from tensorflow) (2.13.0)\n",
      "Requirement already satisfied: keras<2.14,>=2.13.1 in /Users/anastasiaarsky/anaconda3/lib/python3.10/site-packages (from tensorflow) (2.13.1)\n",
      "Requirement already satisfied: tensorflow-io-gcs-filesystem>=0.23.1 in /Users/anastasiaarsky/anaconda3/lib/python3.10/site-packages (from tensorflow) (0.32.0)\n",
      "Requirement already satisfied: wheel<1.0,>=0.23.0 in /Users/anastasiaarsky/anaconda3/lib/python3.10/site-packages (from astunparse>=1.6.0->tensorflow) (0.40.0)\n",
      "Requirement already satisfied: google-auth<3,>=1.6.3 in /Users/anastasiaarsky/anaconda3/lib/python3.10/site-packages (from tensorboard<2.14,>=2.13->tensorflow) (2.22.0)\n",
      "Requirement already satisfied: google-auth-oauthlib<1.1,>=0.5 in /Users/anastasiaarsky/anaconda3/lib/python3.10/site-packages (from tensorboard<2.14,>=2.13->tensorflow) (1.0.0)\n",
      "Requirement already satisfied: markdown>=2.6.8 in /Users/anastasiaarsky/anaconda3/lib/python3.10/site-packages (from tensorboard<2.14,>=2.13->tensorflow) (3.4.1)\n",
      "Requirement already satisfied: requests<3,>=2.21.0 in /Users/anastasiaarsky/anaconda3/lib/python3.10/site-packages (from tensorboard<2.14,>=2.13->tensorflow) (2.28.1)\n",
      "Requirement already satisfied: tensorboard-data-server<0.8.0,>=0.7.0 in /Users/anastasiaarsky/anaconda3/lib/python3.10/site-packages (from tensorboard<2.14,>=2.13->tensorflow) (0.7.1)\n",
      "Requirement already satisfied: werkzeug>=1.0.1 in /Users/anastasiaarsky/anaconda3/lib/python3.10/site-packages (from tensorboard<2.14,>=2.13->tensorflow) (2.2.2)\n",
      "Requirement already satisfied: cachetools<6.0,>=2.0.0 in /Users/anastasiaarsky/anaconda3/lib/python3.10/site-packages (from google-auth<3,>=1.6.3->tensorboard<2.14,>=2.13->tensorflow) (5.3.1)\n",
      "Requirement already satisfied: pyasn1-modules>=0.2.1 in /Users/anastasiaarsky/anaconda3/lib/python3.10/site-packages (from google-auth<3,>=1.6.3->tensorboard<2.14,>=2.13->tensorflow) (0.2.8)\n",
      "Requirement already satisfied: rsa<5,>=3.1.4 in /Users/anastasiaarsky/anaconda3/lib/python3.10/site-packages (from google-auth<3,>=1.6.3->tensorboard<2.14,>=2.13->tensorflow) (4.9)\n",
      "Requirement already satisfied: urllib3<2.0 in /Users/anastasiaarsky/anaconda3/lib/python3.10/site-packages (from google-auth<3,>=1.6.3->tensorboard<2.14,>=2.13->tensorflow) (1.26.14)\n",
      "Requirement already satisfied: requests-oauthlib>=0.7.0 in /Users/anastasiaarsky/anaconda3/lib/python3.10/site-packages (from google-auth-oauthlib<1.1,>=0.5->tensorboard<2.14,>=2.13->tensorflow) (1.3.1)\n",
      "Requirement already satisfied: charset-normalizer<3,>=2 in /Users/anastasiaarsky/anaconda3/lib/python3.10/site-packages (from requests<3,>=2.21.0->tensorboard<2.14,>=2.13->tensorflow) (2.0.4)\n",
      "Requirement already satisfied: idna<4,>=2.5 in /Users/anastasiaarsky/anaconda3/lib/python3.10/site-packages (from requests<3,>=2.21.0->tensorboard<2.14,>=2.13->tensorflow) (3.4)\n",
      "Requirement already satisfied: certifi>=2017.4.17 in /Users/anastasiaarsky/anaconda3/lib/python3.10/site-packages (from requests<3,>=2.21.0->tensorboard<2.14,>=2.13->tensorflow) (2022.12.7)\n",
      "Requirement already satisfied: MarkupSafe>=2.1.1 in /Users/anastasiaarsky/anaconda3/lib/python3.10/site-packages (from werkzeug>=1.0.1->tensorboard<2.14,>=2.13->tensorflow) (2.1.1)\n",
      "Requirement already satisfied: pyasn1<0.5.0,>=0.4.6 in /Users/anastasiaarsky/anaconda3/lib/python3.10/site-packages (from pyasn1-modules>=0.2.1->google-auth<3,>=1.6.3->tensorboard<2.14,>=2.13->tensorflow) (0.4.8)\n",
      "Requirement already satisfied: oauthlib>=3.0.0 in /Users/anastasiaarsky/anaconda3/lib/python3.10/site-packages (from requests-oauthlib>=0.7.0->google-auth-oauthlib<1.1,>=0.5->tensorboard<2.14,>=2.13->tensorflow) (3.2.2)\n",
      "Note: you may need to restart the kernel to use updated packages.\n"
     ]
    }
   ],
   "source": [
    "pip install tensorflow"
   ]
  },
  {
   "cell_type": "code",
   "execution_count": null,
   "metadata": {},
   "outputs": [],
   "source": [
    "import tensorflow as tf"
   ]
  },
  {
   "cell_type": "code",
   "execution_count": null,
   "metadata": {
    "id": "x30Ardwc7p0S"
   },
   "outputs": [],
   "source": [
    "# method to get data with the same batch size\n",
    "def get_batches(x, y, batch_size=100):\n",
    "    n_batches = len(x) // batch_size\n",
    "    x, y = x[:n_batches * batch_size], y[:n_batches * batch_size]\n",
    "    for ii in range(0, len(x), batch_size):\n",
    "        yield x[ii:ii + batch_size], y[ii:ii + batch_size]"
   ]
  },
  {
   "cell_type": "code",
   "execution_count": null,
   "metadata": {
    "id": "g5w3zvGl7t3J"
   },
   "outputs": [],
   "source": [
    "# train and test the LSTM model\n",
    "from sklearn.metrics import f1_score, recall_score, precision_score, accuracy_score\n",
    "from collections import Counter\n",
    "import time\n",
    "\n",
    "def train_test(df):\n",
    "    start = time.time()\n",
    "\n",
    "    # -----------------Train/Validation/Test Split------------------------------\n",
    "    start_split = time.time()\n",
    "\n",
    "    # set features and labels\n",
    "    features = df.Clean_Text\n",
    "    labels = df.Label\n",
    "\n",
    "    split_frac1 = 0.8\n",
    "\n",
    "    idx1 = int(len(features) * split_frac1)\n",
    "    train_x, val_x = features[:idx1], features[idx1:]\n",
    "    train_y, val_y = labels[:idx1], labels[idx1:]\n",
    "\n",
    "    split_frac2 = 0.5\n",
    "\n",
    "    idx2 = int(len(val_x) * split_frac2)\n",
    "    val_x, test_x = val_x[:idx2], val_x[idx2:]\n",
    "    val_y, test_y = val_y[:idx2], val_y[idx2:]\n",
    "\n",
    "    print(\"-----------------Train/Validation/Test Split-----------------\\n\")\n",
    "    print(\"\\nFeature Shapes:\")\n",
    "    print(\"Train set: \\t\\t{}\".format(train_x.shape),\n",
    "          \"\\nValidation set: \\t{}\".format(val_x.shape),\n",
    "          \"\\nTest set: \\t\\t{}\".format(test_x.shape))\n",
    "\n",
    "    print(\"\\nLabel Shapes:\")\n",
    "    print(\"Train set: \\t\\t{}\".format(train_y.shape),\n",
    "          \"\\nValidation set: \\t{}\".format(val_y.shape),\n",
    "          \"\\nTest set: \\t\\t{}\".format(test_y.shape))\n",
    "    \n",
    "    end_split = time.time()\n",
    "    print(\"\\nTime Elapsed: \\t\\t{}\\n\".format(end_split - start_split))\n",
    "\n",
    "    # -----------------Initialize Values----------------------------------------\n",
    "\n",
    "    start_initialize = time.time()\n",
    "\n",
    "    # set LSTM variables\n",
    "    epochs = 15\n",
    "    lstm_layers = 1\n",
    "    batch_size = 179\n",
    "    lstm_size = 30\n",
    "    learning_rate = 0.003\n",
    "\n",
    "    # set number of unique words\n",
    "    #n_words = 1 + len(\n",
    "    #    list(df['Clean_Text'].str.split(' ', expand=True).stack().unique()))\n",
    "\n",
    "    unique_words = Counter()\n",
    "    df['Clean_Text'].apply(lambda x: unique_words.update(x.split()))\n",
    "    n_words = len(unique_words)\n",
    "\n",
    "    print(\"\\n---------------Initialized Values--------------------------\\n\")\n",
    "    print(\"Number of unique words: \\t\\t{}\".format(n_words),\n",
    "          \"\\nLSTM size: \\t\\t{}\".format(lstm_size),\n",
    "          \"\\nLSTM layers: \\t\\t{}\".format(lstm_layers),\n",
    "          \"\\nBatch size: \\t\\t{}\".format(batch_size),\n",
    "          \"\\nEpochs: \\t\\t{}\".format(epochs),\n",
    "          \"\\nLearning Rate \\t\\t{}\".format(learning_rate))\n",
    "    \n",
    "    end_initialize = time.time()\n",
    "    print(\"\\nTime Elapsed: \\t\\t{}\\n\".format(end_initialize - start_initialize))\n",
    "\n",
    "    # -----------------Placeholders---------------------------------------------\n",
    "\n",
    "    graph = tf.Graph()\n",
    "\n",
    "    with graph.as_default():\n",
    "\n",
    "        tf.set_random_seed(1)\n",
    "\n",
    "        inputs_ = tf.placeholder(tf.int32, [None, None], name=\"inputs\")\n",
    "        labels_ = tf.placeholder(tf.float32, [None, None], name=\"labels\")\n",
    "\n",
    "        keep_prob = tf.placeholder(tf.float32, name=\"keep_prob\")\n",
    "\n",
    "        embed_size = 300\n",
    "\n",
    "        embedding = tf.Variable(tf.random_uniform((n_words, embed_size), -1, 1))\n",
    "        embed = tf.nn.embedding_lookup(embedding, inputs_)\n",
    "        print(embedding.shape)\n",
    "        print(embed.shape)\n",
    "\n",
    "        lstm = tf.contrib.rnn.BasicLSTMCell(lstm_size)\n",
    "\n",
    "        drop = tf.contrib.rnn.DropoutWrapper(lstm, output_keep_prob=keep_prob)\n",
    "\n",
    "        cell = tf.contrib.rnn.MultiRNNCell([drop] * lstm_layers)\n",
    "\n",
    "        initial_state = cell.zero_state(batch_size, tf.float32)\n",
    "\n",
    "        outputs, final_state = tf.nn.dynamic_rnn(cell, embed,\n",
    "                                                 initial_state=initial_state)\n",
    "\n",
    "        hidden1 = tf.layers.dense(outputs[:, -1], units=25, activation=tf.nn.relu)\n",
    "\n",
    "        hidden2 = tf.layers.dense(hidden1, units=15, activation=tf.nn.relu)\n",
    "\n",
    "        logit = tf.contrib.layers.fully_connected(hidden2, num_outputs=1,\n",
    "                                                  activation_fn=None)\n",
    "\n",
    "        cost = tf.reduce_mean(tf.nn.sigmoid_cross_entropy_with_logits(\n",
    "            logits=logit, labels=labels_))\n",
    "\n",
    "        optimizer = tf.train.AdamOptimizer(learning_rate).minimize(cost)\n",
    "\n",
    "        predictions = tf.round(tf.nn.sigmoid(logit))\n",
    "\n",
    "        saver = tf.train.Saver()\n",
    "\n",
    "    # -----------------Training-------------------------------------------------\n",
    "\n",
    "    with tf.Session(graph=graph) as sess:\n",
    "        print(\"Starting Training...\")\n",
    "        tf.set_random_seed(1)\n",
    "        sess.run(tf.global_variables_initializer())\n",
    "        iteration = 1\n",
    "        for e in range(epochs):\n",
    "            start_train = time.time()\n",
    "            state = sess.run(initial_state)\n",
    "            for ii, (x, y) in enumerate(get_batches(np.array(train_x),\n",
    "                                            np.array(train_y), batch_size), 1):\n",
    "\n",
    "                feed = {inputs_: x,\n",
    "                        labels_: y[:, None],\n",
    "                        keep_prob: 0.5,\n",
    "                        initial_state: state}\n",
    "                loss, states, _ = sess.run([cost, final_state, optimizer],\n",
    "                                           feed_dict=feed)\n",
    "\n",
    "                if iteration % 5 == 0:\n",
    "                    print(\"\\nEpoch: {}/{}\".format(e, epochs),\n",
    "                          \"Iteration: {}\".format(iteration),\n",
    "                          \"Train loss: {:.3f}\".format(loss),\n",
    "                          \"\\nTime Elapsed: \\t\\t{}\".format(time.time() - start_train))\n",
    "                iteration += 1\n",
    "\n",
    "        saver.save(sess, \"checkpoints/sentiment.ckpt\")\n",
    "\n",
    "    # -----------------Testing Validation Set-----------------------------------\n",
    "    print(\"Starting Validation Set...\")\n",
    "\n",
    "    start_validation = time.time()\n",
    "\n",
    "    prediction_vals = []\n",
    "    y_vals = []\n",
    "    with tf.Session(graph=graph) as sess:\n",
    "        tf.set_random_seed(1)\n",
    "        saver.restore(sess, tf.train.latest_checkpoint('checkpoints'))\n",
    "\n",
    "        test_state = sess.run(cell.zero_state(batch_size, tf.float32))\n",
    "\n",
    "        for ii, (x, y) in enumerate(get_batches(np.array(val_x), np.array(val_y),\n",
    "                                                batch_size), 1):\n",
    "\n",
    "            feed = {inputs_: x,\n",
    "                    labels_: y[:, None],\n",
    "                    keep_prob: 1,\n",
    "                    initial_state: test_state}\n",
    "\n",
    "            prediction = sess.run(predictions, feed_dict=feed)\n",
    "            prediction = prediction.astype(int)\n",
    "\n",
    "            for i in range(len(prediction)):\n",
    "                prediction_vals.append(prediction[i][0])\n",
    "                y_vals.append(y[i])\n",
    "\n",
    "        accuracy = accuracy_score(y_vals, prediction_vals)\n",
    "        f1 = f1_score(y_vals, prediction_vals, average='macro')\n",
    "        recall = recall_score(y_true=y_vals, y_pred=prediction_vals, average='macro')\n",
    "        precision = precision_score(y_vals, prediction_vals, average='macro')\n",
    "\n",
    "        print(\"-----------------Testing Validation Set------------------\")\n",
    "        print(\"Test accuracy: {:.3f}\".format(accuracy))\n",
    "        print(\"F1 Score: {:.3f}\".format(f1))\n",
    "        print(\"Recall: {:.3f}\".format(recall))\n",
    "        print(\"Precision: {:.3f}\".format(precision))\n",
    "\n",
    "        end_validation = time.time()\n",
    "        print(\"\\nTime Elapsed: \\t\\t{}\\n\".format(end_validation - start_validation))\n",
    "\n",
    "\n",
    "    # -----------------Testing Test Set-----------------------------------------\n",
    "    print(\"Starting Testing Set...\")\n",
    "\n",
    "    start_test = time.time()\n",
    "\n",
    "    prediction_val = []\n",
    "    y_val = []\n",
    "    with tf.Session(graph=graph) as sess:\n",
    "        tf.set_random_seed(1)\n",
    "        saver.restore(sess, tf.train.latest_checkpoint('checkpoints'))\n",
    "        test_state = sess.run(cell.zero_state(batch_size, tf.float32))\n",
    "\n",
    "        for ii, (x, y) in enumerate(get_batches(np.array(test_x),\n",
    "                                                np.array(test_y), batch_size), 1):\n",
    "\n",
    "            feed = {inputs_: x,\n",
    "                    labels_: y[:, None],\n",
    "                    keep_prob: 1,\n",
    "                    initial_state: test_state}\n",
    "\n",
    "            prediction = sess.run(predictions, feed_dict=feed)\n",
    "            prediction = prediction.astype(int)\n",
    "\n",
    "            for i in range(len(prediction)):\n",
    "                prediction_val.append(prediction[i][0])\n",
    "                y_val.append(y[i])\n",
    "\n",
    "        accuracy = accuracy_score(y_val, prediction_val)\n",
    "        f1 = f1_score(y_val, prediction_val, average='macro')\n",
    "        recall = recall_score(y_true=y_val, y_pred=prediction_val, average='macro')\n",
    "        precision = precision_score(y_val, prediction_val, average='macro')\n",
    "\n",
    "        print(\"-----------------Testing Test Set------------------------\")\n",
    "        print(\"Test accuracy: {:.3f}\".format(accuracy))\n",
    "        print(\"F1 Score: {:.3f}\".format(f1))\n",
    "        print(\"Recall: {:.3f}\".format(recall))\n",
    "        print(\"Precision: {:.3f}\".format(precision))\n",
    "\n",
    "        end_test = time.time()\n",
    "        print(\"\\nTime Elapsed: \\t\\t{}\\n\".format(end_test - start_test))\n",
    "\n",
    "        end = time.time()\n",
    "        print(\"\\nTotal Time Elapsed: \\t\\t{}\\n\".format(end - start))\n",
    "\n",
    "        "
   ]
  },
  {
   "cell_type": "code",
   "execution_count": null,
   "metadata": {
    "colab": {
     "base_uri": "https://localhost:8080/"
    },
    "id": "_Jzqhuxd_jZw",
    "outputId": "b425dd61-437a-40ed-c41f-1ecfd949c091"
   },
   "outputs": [],
   "source": [
    "train_test(df2)"
   ]
  },
  {
   "cell_type": "markdown",
   "metadata": {
    "id": "oyA-YGqfrlYb"
   },
   "source": []
  },
  {
   "cell_type": "markdown",
   "metadata": {
    "id": "Tap0bj9VrliF"
   },
   "source": []
  },
  {
   "cell_type": "markdown",
   "metadata": {
    "id": "JHCb6Euyrlrc"
   },
   "source": []
  },
  {
   "cell_type": "markdown",
   "metadata": {
    "id": "zR7eoGoOrl0D"
   },
   "source": []
  },
  {
   "cell_type": "markdown",
   "metadata": {
    "id": "J-uDtANuj3LN"
   },
   "source": [
    "#### Bag of Words"
   ]
  },
  {
   "cell_type": "code",
   "execution_count": null,
   "metadata": {
    "id": "Hmg5fteuknXh"
   },
   "outputs": [],
   "source": [
    "# Split data into training and testing set\n",
    "X = df2.Clean_Text\n",
    "y = df2.Label\n",
    "\n",
    "X_train, X_test, y_train, y_test = train_test_split(X, y, test_size=0.3, random_state=42)"
   ]
  },
  {
   "cell_type": "code",
   "execution_count": null,
   "metadata": {
    "id": "47ZcEqnVnPRj"
   },
   "outputs": [],
   "source": [
    "# Set hyperparameters\n",
    "num_words=10000\n",
    "maxlen=1000"
   ]
  },
  {
   "cell_type": "code",
   "execution_count": null,
   "metadata": {
    "id": "G1EquCnoj5AH"
   },
   "outputs": [],
   "source": [
    "# Vectorize the text samples into a 2D integer tensor\n",
    "# if tokenizer doesnt work --> https://www.tensorflow.org/tutorials/load_data/text\n",
    "from tensorflow.keras.preprocessing.text import Tokenizer\n",
    "\n",
    "tokenizer = Tokenizer(num_words=num_words, char_level=False)\n",
    "\n",
    "# updates an internal vocabulary based on X_train\n",
    "# (required before texts_to_sequences)\n",
    "tokenizer.fit_on_texts(X_train)\n",
    "\n",
    "# Transform X_train and X_test to a sequence of integers.\n",
    "sequences_train = tokenizer.texts_to_sequences(X_train)\n",
    "sequences_test = tokenizer.texts_to_sequences(X_test)\n",
    "\n",
    "len(sequences_train)"
   ]
  },
  {
   "cell_type": "code",
   "execution_count": null,
   "metadata": {
    "id": "fUGU42H5ldCH"
   },
   "outputs": [],
   "source": [
    "# Pad sequences with 0s so that they are all the same length\n",
    "from tensorflow.keras.preprocessing.sequence import pad_sequences\n",
    "\n",
    "X_train = pad_sequences(sequences_train, maxlen=maxlen)\n",
    "X_test = pad_sequences(sequences_test, maxlen=maxlen)\n",
    "\n",
    "print('Shape of data tensor:', X_train.shape)\n",
    "print('Shape of data test tensor:', X_test.shape)\n",
    "print(type(X_train))"
   ]
  },
  {
   "cell_type": "markdown",
   "metadata": {
    "id": "srnot3pDnVzd"
   },
   "source": [
    "#### LSTM model"
   ]
  },
  {
   "cell_type": "code",
   "execution_count": null,
   "metadata": {
    "id": "w_lje6RMnb_k"
   },
   "outputs": [],
   "source": [
    "from tensorflow.keras.layers import Dense, Input, LSTM, Embedding, Dropout, Activation, Flatten, Bidirectional, BatchNormalization\n",
    "from tensorflow.keras.models import Model, Sequential\n",
    "from tensorflow.keras.optimizers import Adam\n",
    "import tensorflow as tf\n",
    "backend.clear_session()\n",
    "\n",
    "# set the seed for random number generators\n",
    "np.random.seed(42)\n",
    "import random\n",
    "random.seed(42)\n",
    "tf.random.set_seed(42)"
   ]
  },
  {
   "cell_type": "code",
   "execution_count": null,
   "metadata": {
    "id": "31mObrxEnmRH"
   },
   "outputs": [],
   "source": [
    "def create_model(maxlen,num_words,num_categories):\n",
    "\n",
    "    model = Sequential()\n",
    "\n",
    "    model.add(Embedding(num_words,output_dim=100,input_length=maxlen,trainable=True))\n",
    "\n",
    "    model.add(BatchNormalization())\n",
    "\n",
    "    model.add(Bidirectional(LSTM(100)))\n",
    "\n",
    "    model.add(Dropout(0.2))\n",
    "\n",
    "    model.add(Dense(128,activation='relu'))\n",
    "\n",
    "    model.add(BatchNormalization())\n",
    "\n",
    "    model.add(Dense(64,activation='relu'))\n",
    "\n",
    "    model.add(Dropout(0.2))\n",
    "\n",
    "    model.add(Dense(32,activation='relu'))\n",
    "\n",
    "    model.add(Dense(num_categories, activation='softmax'))\n",
    "\n",
    "    model.compile(loss='sparse_categorical_crossentropy',optimizer=\"adam\",metrics=['accuracy'])\n",
    "\n",
    "    model.summary()\n",
    "    return model\n",
    "\n"
   ]
  },
  {
   "cell_type": "code",
   "execution_count": null,
   "metadata": {
    "id": "4UqtO-4tnuch"
   },
   "outputs": [],
   "source": [
    "print('===============Create The Model==========================')\n",
    "# We get to choose embedding dimensionality\n",
    "D = 100\n",
    "# Hidden state dimentionality\n",
    "M = 64\n",
    "V = len(tokenizer.word_index)\n",
    "T = data_train.shape[1]\n",
    "\n",
    "# model.add(embedding)\n",
    "# model.add(SpatialDropout1D(0.2))\n",
    "# model.add(LSTM(64, dropout=0.2, recurrent_dropout=0.2))\n",
    "# model.add(Dense(1, activation='sigmoid'))\n",
    "\n",
    "i = Input(shape=(T,))\n",
    "x = Embedding(V + 1, D)(i)\n",
    "x = SpatialDropout1D(0.2)(x)\n",
    "x = LSTM(M, return_sequences=True, activation='relu')(x)\n",
    "x = GlobalAveragePooling1D()(x)\n",
    "# x = Dropout(0.2)(x)\n",
    "x = Dense(1, activation='sigmoid')(x)\n",
    "\n",
    "model = Model(i, x)\n",
    "optimizer = Adam(learning_rate=1e-5)\n",
    "# Compile and fit\n",
    "model.compile(optimizer=optimizer, loss='binary_crossentropy', metrics=['accuracy'])\n",
    "print('Training model...........')\n",
    "r = model.fit(data_train, y_train, epochs=15,\n",
    "              validation_data=(data_test, y_test),\n",
    "              batch_size=1)\n",
    "\n",
    "print('================Model Evaluation=====================')\n",
    "evaluate(model, data_train, data_test, y_train, y_test)\n",
    "plot_loss_evaluation(r)"
   ]
  },
  {
   "cell_type": "markdown",
   "metadata": {
    "id": "-s_HyH5I7936"
   },
   "source": []
  },
  {
   "cell_type": "markdown",
   "metadata": {
    "id": "ZliV2QFI57dl"
   },
   "source": [
    "# **Analysis and Conclusion**"
   ]
  },
  {
   "cell_type": "markdown",
   "metadata": {
    "id": "_pL__3B66Ek6"
   },
   "source": [
    "### **Results**:\n",
    "| Model                             | Accuracy | F1 Score| Recall|Precision     \n",
    "| :-------------------------------:  | :-------:| :-----: | :----:| :------:\n",
    "| **Random Forest**                  | 0.981    | 0.981   | 0.981 | 0.982\n",
    "| **Recurrent Neural Network (LSTM)**| 0.973    | 0.969   | 0.972 | 0.966"
   ]
  },
  {
   "cell_type": "markdown",
   "metadata": {
    "id": "q70YKp8U_iio"
   },
   "source": [
    "#### **Analysis**\n",
    "Considering the obtained results, the ___ model outperformed the ____ model. However, both models achieved a ___ accuracy rate, which is not bad. Moving forward, I will most likely be utilizing a slighlty more complicated deep learning model."
   ]
  },
  {
   "cell_type": "code",
   "execution_count": null,
   "metadata": {
    "id": "_2sHoH1k_h15"
   },
   "outputs": [],
   "source": []
  }
 ],
 "metadata": {
  "accelerator": "GPU",
  "colab": {
   "gpuType": "V100",
   "machine_shape": "hm",
   "provenance": []
  },
  "kernelspec": {
   "display_name": "Python 3 (ipykernel)",
   "language": "python",
   "name": "python3"
  },
  "language_info": {
   "codemirror_mode": {
    "name": "ipython",
    "version": 3
   },
   "file_extension": ".py",
   "mimetype": "text/x-python",
   "name": "python",
   "nbconvert_exporter": "python",
   "pygments_lexer": "ipython3",
   "version": "3.10.9"
  }
 },
 "nbformat": 4,
 "nbformat_minor": 1
}
